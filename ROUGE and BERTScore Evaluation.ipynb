{
 "cells": [
  {
   "cell_type": "markdown",
   "id": "0e231c67",
   "metadata": {},
   "source": [
    "<h2> Evaluation of Dialog Summarization </h2>"
   ]
  },
  {
   "cell_type": "markdown",
   "id": "1bf35d06",
   "metadata": {},
   "source": [
    "**LOADING DATASET**"
   ]
  },
  {
   "cell_type": "markdown",
   "id": "2e26918f",
   "metadata": {},
   "source": [
    "**1. We install the necessary packages and libraries we will need for ou evaluation**"
   ]
  },
  {
   "cell_type": "code",
   "execution_count": 1,
   "id": "0b2e962c",
   "metadata": {},
   "outputs": [
    {
     "name": "stdout",
     "output_type": "stream",
     "text": [
      "\u001b[33mWARNING: Ignoring invalid distribution -orch (/cluster/home/bwc/mm2404/hydra-jupyter/lib/python3.10/site-packages)\u001b[0m\u001b[33m\n",
      "\u001b[0mRequirement already satisfied: evaluate in ./hydra-jupyter/lib/python3.10/site-packages (0.4.2)\n",
      "Requirement already satisfied: datasets>=2.0.0 in ./hydra-jupyter/lib/python3.10/site-packages (from evaluate) (2.20.0)\n",
      "Requirement already satisfied: numpy>=1.17 in ./hydra-jupyter/lib/python3.10/site-packages (from evaluate) (1.26.4)\n",
      "Requirement already satisfied: dill in ./hydra-jupyter/lib/python3.10/site-packages (from evaluate) (0.3.7)\n",
      "Requirement already satisfied: pandas in ./hydra-jupyter/lib/python3.10/site-packages (from evaluate) (2.2.2)\n",
      "Requirement already satisfied: requests>=2.19.0 in ./hydra-jupyter/lib/python3.10/site-packages (from evaluate) (2.32.3)\n",
      "Requirement already satisfied: tqdm>=4.62.1 in ./hydra-jupyter/lib/python3.10/site-packages (from evaluate) (4.66.4)\n",
      "Requirement already satisfied: xxhash in ./hydra-jupyter/lib/python3.10/site-packages (from evaluate) (3.4.1)\n",
      "Requirement already satisfied: multiprocess in ./hydra-jupyter/lib/python3.10/site-packages (from evaluate) (0.70.15)\n",
      "Requirement already satisfied: fsspec>=2021.05.0 in ./hydra-jupyter/lib/python3.10/site-packages (from fsspec[http]>=2021.05.0->evaluate) (2024.5.0)\n",
      "Requirement already satisfied: huggingface-hub>=0.7.0 in ./hydra-jupyter/lib/python3.10/site-packages (from evaluate) (0.23.4)\n",
      "Requirement already satisfied: packaging in ./hydra-jupyter/lib/python3.10/site-packages (from evaluate) (23.2)\n",
      "Requirement already satisfied: filelock in /usr/lib/python3/dist-packages (from datasets>=2.0.0->evaluate) (3.6.0)\n",
      "Requirement already satisfied: pyarrow>=15.0.0 in ./hydra-jupyter/lib/python3.10/site-packages (from datasets>=2.0.0->evaluate) (16.1.0)\n",
      "Requirement already satisfied: pyarrow-hotfix in ./hydra-jupyter/lib/python3.10/site-packages (from datasets>=2.0.0->evaluate) (0.6)\n",
      "Requirement already satisfied: aiohttp in ./hydra-jupyter/lib/python3.10/site-packages (from datasets>=2.0.0->evaluate) (3.9.5)\n",
      "Requirement already satisfied: pyyaml>=5.1 in ./hydra-jupyter/lib/python3.10/site-packages (from datasets>=2.0.0->evaluate) (6.0.1)\n",
      "Requirement already satisfied: typing-extensions>=3.7.4.3 in ./hydra-jupyter/lib/python3.10/site-packages (from huggingface-hub>=0.7.0->evaluate) (4.12.2)\n",
      "Requirement already satisfied: charset-normalizer<4,>=2 in ./hydra-jupyter/lib/python3.10/site-packages (from requests>=2.19.0->evaluate) (3.3.2)\n",
      "Requirement already satisfied: idna<4,>=2.5 in ./hydra-jupyter/lib/python3.10/site-packages (from requests>=2.19.0->evaluate) (3.7)\n",
      "Requirement already satisfied: urllib3<3,>=1.21.1 in ./hydra-jupyter/lib/python3.10/site-packages (from requests>=2.19.0->evaluate) (2.2.2)\n",
      "Requirement already satisfied: certifi>=2017.4.17 in ./hydra-jupyter/lib/python3.10/site-packages (from requests>=2.19.0->evaluate) (2024.7.4)\n",
      "Requirement already satisfied: python-dateutil>=2.8.2 in ./hydra-jupyter/lib/python3.10/site-packages (from pandas->evaluate) (2.9.0.post0)\n",
      "Requirement already satisfied: pytz>=2020.1 in /usr/lib/python3/dist-packages (from pandas->evaluate) (2022.1)\n",
      "Requirement already satisfied: tzdata>=2022.7 in ./hydra-jupyter/lib/python3.10/site-packages (from pandas->evaluate) (2024.1)\n",
      "Requirement already satisfied: aiosignal>=1.1.2 in ./hydra-jupyter/lib/python3.10/site-packages (from aiohttp->datasets>=2.0.0->evaluate) (1.3.1)\n",
      "Requirement already satisfied: attrs>=17.3.0 in ./hydra-jupyter/lib/python3.10/site-packages (from aiohttp->datasets>=2.0.0->evaluate) (23.2.0)\n",
      "Requirement already satisfied: frozenlist>=1.1.1 in ./hydra-jupyter/lib/python3.10/site-packages (from aiohttp->datasets>=2.0.0->evaluate) (1.4.1)\n",
      "Requirement already satisfied: multidict<7.0,>=4.5 in ./hydra-jupyter/lib/python3.10/site-packages (from aiohttp->datasets>=2.0.0->evaluate) (6.0.5)\n",
      "Requirement already satisfied: yarl<2.0,>=1.0 in ./hydra-jupyter/lib/python3.10/site-packages (from aiohttp->datasets>=2.0.0->evaluate) (1.9.4)\n",
      "Requirement already satisfied: async-timeout<5.0,>=4.0 in ./hydra-jupyter/lib/python3.10/site-packages (from aiohttp->datasets>=2.0.0->evaluate) (4.0.3)\n",
      "Requirement already satisfied: six>=1.5 in /usr/lib/python3/dist-packages (from python-dateutil>=2.8.2->pandas->evaluate) (1.16.0)\n",
      "\u001b[33mWARNING: Ignoring invalid distribution -orch (/cluster/home/bwc/mm2404/hydra-jupyter/lib/python3.10/site-packages)\u001b[0m\u001b[33m\n",
      "\u001b[0m\u001b[33mWARNING: Ignoring invalid distribution -orch (/cluster/home/bwc/mm2404/hydra-jupyter/lib/python3.10/site-packages)\u001b[0m\u001b[33m\n",
      "\u001b[0m\u001b[33mWARNING: Ignoring invalid distribution -orch (/cluster/home/bwc/mm2404/hydra-jupyter/lib/python3.10/site-packages)\u001b[0m\u001b[33m\n",
      "\u001b[0mRequirement already satisfied: datasets in ./hydra-jupyter/lib/python3.10/site-packages (2.20.0)\n",
      "Requirement already satisfied: filelock in /usr/lib/python3/dist-packages (from datasets) (3.6.0)\n",
      "Requirement already satisfied: numpy>=1.17 in ./hydra-jupyter/lib/python3.10/site-packages (from datasets) (1.26.4)\n",
      "Requirement already satisfied: pyarrow>=15.0.0 in ./hydra-jupyter/lib/python3.10/site-packages (from datasets) (16.1.0)\n",
      "Requirement already satisfied: pyarrow-hotfix in ./hydra-jupyter/lib/python3.10/site-packages (from datasets) (0.6)\n",
      "Requirement already satisfied: dill<0.3.9,>=0.3.0 in ./hydra-jupyter/lib/python3.10/site-packages (from datasets) (0.3.7)\n",
      "Requirement already satisfied: pandas in ./hydra-jupyter/lib/python3.10/site-packages (from datasets) (2.2.2)\n",
      "Requirement already satisfied: requests>=2.32.2 in ./hydra-jupyter/lib/python3.10/site-packages (from datasets) (2.32.3)\n",
      "Requirement already satisfied: tqdm>=4.66.3 in ./hydra-jupyter/lib/python3.10/site-packages (from datasets) (4.66.4)\n",
      "Requirement already satisfied: xxhash in ./hydra-jupyter/lib/python3.10/site-packages (from datasets) (3.4.1)\n",
      "Requirement already satisfied: multiprocess in ./hydra-jupyter/lib/python3.10/site-packages (from datasets) (0.70.15)\n",
      "Requirement already satisfied: fsspec<=2024.5.0,>=2023.1.0 in ./hydra-jupyter/lib/python3.10/site-packages (from fsspec[http]<=2024.5.0,>=2023.1.0->datasets) (2024.5.0)\n",
      "Requirement already satisfied: aiohttp in ./hydra-jupyter/lib/python3.10/site-packages (from datasets) (3.9.5)\n",
      "Requirement already satisfied: huggingface-hub>=0.21.2 in ./hydra-jupyter/lib/python3.10/site-packages (from datasets) (0.23.4)\n",
      "Requirement already satisfied: packaging in ./hydra-jupyter/lib/python3.10/site-packages (from datasets) (23.2)\n",
      "Requirement already satisfied: pyyaml>=5.1 in ./hydra-jupyter/lib/python3.10/site-packages (from datasets) (6.0.1)\n",
      "Requirement already satisfied: aiosignal>=1.1.2 in ./hydra-jupyter/lib/python3.10/site-packages (from aiohttp->datasets) (1.3.1)\n",
      "Requirement already satisfied: attrs>=17.3.0 in ./hydra-jupyter/lib/python3.10/site-packages (from aiohttp->datasets) (23.2.0)\n",
      "Requirement already satisfied: frozenlist>=1.1.1 in ./hydra-jupyter/lib/python3.10/site-packages (from aiohttp->datasets) (1.4.1)\n",
      "Requirement already satisfied: multidict<7.0,>=4.5 in ./hydra-jupyter/lib/python3.10/site-packages (from aiohttp->datasets) (6.0.5)\n",
      "Requirement already satisfied: yarl<2.0,>=1.0 in ./hydra-jupyter/lib/python3.10/site-packages (from aiohttp->datasets) (1.9.4)\n",
      "Requirement already satisfied: async-timeout<5.0,>=4.0 in ./hydra-jupyter/lib/python3.10/site-packages (from aiohttp->datasets) (4.0.3)\n",
      "Requirement already satisfied: typing-extensions>=3.7.4.3 in ./hydra-jupyter/lib/python3.10/site-packages (from huggingface-hub>=0.21.2->datasets) (4.12.2)\n",
      "Requirement already satisfied: charset-normalizer<4,>=2 in ./hydra-jupyter/lib/python3.10/site-packages (from requests>=2.32.2->datasets) (3.3.2)\n",
      "Requirement already satisfied: idna<4,>=2.5 in ./hydra-jupyter/lib/python3.10/site-packages (from requests>=2.32.2->datasets) (3.7)\n",
      "Requirement already satisfied: urllib3<3,>=1.21.1 in ./hydra-jupyter/lib/python3.10/site-packages (from requests>=2.32.2->datasets) (2.2.2)\n",
      "Requirement already satisfied: certifi>=2017.4.17 in ./hydra-jupyter/lib/python3.10/site-packages (from requests>=2.32.2->datasets) (2024.7.4)\n",
      "Requirement already satisfied: python-dateutil>=2.8.2 in ./hydra-jupyter/lib/python3.10/site-packages (from pandas->datasets) (2.9.0.post0)\n",
      "Requirement already satisfied: pytz>=2020.1 in /usr/lib/python3/dist-packages (from pandas->datasets) (2022.1)\n",
      "Requirement already satisfied: tzdata>=2022.7 in ./hydra-jupyter/lib/python3.10/site-packages (from pandas->datasets) (2024.1)\n",
      "Requirement already satisfied: six>=1.5 in /usr/lib/python3/dist-packages (from python-dateutil>=2.8.2->pandas->datasets) (1.16.0)\n",
      "\u001b[33mWARNING: Ignoring invalid distribution -orch (/cluster/home/bwc/mm2404/hydra-jupyter/lib/python3.10/site-packages)\u001b[0m\u001b[33m\n",
      "\u001b[0m\u001b[33mWARNING: Ignoring invalid distribution -orch (/cluster/home/bwc/mm2404/hydra-jupyter/lib/python3.10/site-packages)\u001b[0m\u001b[33m\n",
      "\u001b[0m\u001b[33mWARNING: Ignoring invalid distribution -orch (/cluster/home/bwc/mm2404/hydra-jupyter/lib/python3.10/site-packages)\u001b[0m\u001b[33m\n",
      "\u001b[0mRequirement already satisfied: rouge_score in ./hydra-jupyter/lib/python3.10/site-packages (0.1.2)\n",
      "Requirement already satisfied: absl-py in ./hydra-jupyter/lib/python3.10/site-packages (from rouge_score) (2.1.0)\n",
      "Requirement already satisfied: nltk in ./hydra-jupyter/lib/python3.10/site-packages (from rouge_score) (3.8.1)\n",
      "Requirement already satisfied: numpy in ./hydra-jupyter/lib/python3.10/site-packages (from rouge_score) (1.26.4)\n",
      "Requirement already satisfied: six>=1.14.0 in /usr/lib/python3/dist-packages (from rouge_score) (1.16.0)\n",
      "Requirement already satisfied: click in ./hydra-jupyter/lib/python3.10/site-packages (from nltk->rouge_score) (8.1.7)\n",
      "Requirement already satisfied: joblib in ./hydra-jupyter/lib/python3.10/site-packages (from nltk->rouge_score) (1.4.2)\n",
      "Requirement already satisfied: regex>=2021.8.3 in ./hydra-jupyter/lib/python3.10/site-packages (from nltk->rouge_score) (2024.5.15)\n",
      "Requirement already satisfied: tqdm in ./hydra-jupyter/lib/python3.10/site-packages (from nltk->rouge_score) (4.66.4)\n",
      "\u001b[33mWARNING: Ignoring invalid distribution -orch (/cluster/home/bwc/mm2404/hydra-jupyter/lib/python3.10/site-packages)\u001b[0m\u001b[33m\n",
      "\u001b[0m\u001b[33mWARNING: Ignoring invalid distribution -orch (/cluster/home/bwc/mm2404/hydra-jupyter/lib/python3.10/site-packages)\u001b[0m\u001b[33m\n",
      "\u001b[0m\u001b[33mWARNING: Ignoring invalid distribution -orch (/cluster/home/bwc/mm2404/hydra-jupyter/lib/python3.10/site-packages)\u001b[0m\u001b[33m\n",
      "\u001b[0mRequirement already satisfied: nltk in ./hydra-jupyter/lib/python3.10/site-packages (3.8.1)\n",
      "Collecting nltk\n",
      "  Using cached nltk-3.9.1-py3-none-any.whl.metadata (2.9 kB)\n",
      "Requirement already satisfied: click in ./hydra-jupyter/lib/python3.10/site-packages (from nltk) (8.1.7)\n",
      "Requirement already satisfied: joblib in ./hydra-jupyter/lib/python3.10/site-packages (from nltk) (1.4.2)\n",
      "Requirement already satisfied: regex>=2021.8.3 in ./hydra-jupyter/lib/python3.10/site-packages (from nltk) (2024.5.15)\n",
      "Requirement already satisfied: tqdm in ./hydra-jupyter/lib/python3.10/site-packages (from nltk) (4.66.4)\n",
      "\u001b[31mERROR: Will not install to the user site because it will lack sys.path precedence to nltk in /cluster/home/bwc/mm2404/hydra-jupyter/lib/python3.10/site-packages\u001b[0m\u001b[31m\n",
      "\u001b[0m\u001b[33mWARNING: Ignoring invalid distribution -orch (/cluster/home/bwc/mm2404/hydra-jupyter/lib/python3.10/site-packages)\u001b[0m\u001b[33m\n",
      "\u001b[0mRequirement already satisfied: transformers in ./hydra-jupyter/lib/python3.10/site-packages (4.31.0)\n",
      "Requirement already satisfied: filelock in /usr/lib/python3/dist-packages (from transformers) (3.6.0)\n",
      "Requirement already satisfied: huggingface-hub<1.0,>=0.14.1 in ./hydra-jupyter/lib/python3.10/site-packages (from transformers) (0.23.4)\n",
      "Requirement already satisfied: numpy>=1.17 in ./hydra-jupyter/lib/python3.10/site-packages (from transformers) (1.26.4)\n",
      "Requirement already satisfied: packaging>=20.0 in ./hydra-jupyter/lib/python3.10/site-packages (from transformers) (23.2)\n",
      "Requirement already satisfied: pyyaml>=5.1 in ./hydra-jupyter/lib/python3.10/site-packages (from transformers) (6.0.1)\n",
      "Requirement already satisfied: regex!=2019.12.17 in ./hydra-jupyter/lib/python3.10/site-packages (from transformers) (2024.5.15)\n",
      "Requirement already satisfied: requests in ./hydra-jupyter/lib/python3.10/site-packages (from transformers) (2.32.3)\n",
      "Requirement already satisfied: tokenizers!=0.11.3,<0.14,>=0.11.1 in ./hydra-jupyter/lib/python3.10/site-packages (from transformers) (0.13.3)\n",
      "Requirement already satisfied: safetensors>=0.3.1 in ./hydra-jupyter/lib/python3.10/site-packages (from transformers) (0.4.3)\n",
      "Requirement already satisfied: tqdm>=4.27 in ./hydra-jupyter/lib/python3.10/site-packages (from transformers) (4.66.4)\n",
      "Requirement already satisfied: fsspec>=2023.5.0 in ./hydra-jupyter/lib/python3.10/site-packages (from huggingface-hub<1.0,>=0.14.1->transformers) (2024.5.0)\n",
      "Requirement already satisfied: typing-extensions>=3.7.4.3 in ./hydra-jupyter/lib/python3.10/site-packages (from huggingface-hub<1.0,>=0.14.1->transformers) (4.12.2)\n",
      "Requirement already satisfied: charset-normalizer<4,>=2 in ./hydra-jupyter/lib/python3.10/site-packages (from requests->transformers) (3.3.2)\n",
      "Requirement already satisfied: idna<4,>=2.5 in ./hydra-jupyter/lib/python3.10/site-packages (from requests->transformers) (3.7)\n",
      "Requirement already satisfied: urllib3<3,>=1.21.1 in ./hydra-jupyter/lib/python3.10/site-packages (from requests->transformers) (2.2.2)\n",
      "Requirement already satisfied: certifi>=2017.4.17 in ./hydra-jupyter/lib/python3.10/site-packages (from requests->transformers) (2024.7.4)\n",
      "\u001b[33mWARNING: Ignoring invalid distribution -orch (/cluster/home/bwc/mm2404/hydra-jupyter/lib/python3.10/site-packages)\u001b[0m\u001b[33m\n",
      "\u001b[0m\u001b[33mWARNING: Ignoring invalid distribution -orch (/cluster/home/bwc/mm2404/hydra-jupyter/lib/python3.10/site-packages)\u001b[0m\u001b[33m\n",
      "\u001b[0m\u001b[33mWARNING: Ignoring invalid distribution -orch (/cluster/home/bwc/mm2404/hydra-jupyter/lib/python3.10/site-packages)\u001b[0m\u001b[33m\n",
      "\u001b[0mRequirement already satisfied: bitsandbytes in ./hydra-jupyter/lib/python3.10/site-packages (0.43.3)\n",
      "Requirement already satisfied: torch in ./hydra-jupyter/lib/python3.10/site-packages (from bitsandbytes) (2.0.1)\n",
      "Requirement already satisfied: numpy in ./hydra-jupyter/lib/python3.10/site-packages (from bitsandbytes) (1.26.4)\n",
      "Requirement already satisfied: filelock in /usr/lib/python3/dist-packages (from torch->bitsandbytes) (3.6.0)\n",
      "Requirement already satisfied: typing-extensions in ./hydra-jupyter/lib/python3.10/site-packages (from torch->bitsandbytes) (4.12.2)\n",
      "Requirement already satisfied: sympy in ./hydra-jupyter/lib/python3.10/site-packages (from torch->bitsandbytes) (1.13.0)\n",
      "Requirement already satisfied: networkx in ./hydra-jupyter/lib/python3.10/site-packages (from torch->bitsandbytes) (3.3)\n",
      "Requirement already satisfied: jinja2 in ./hydra-jupyter/lib/python3.10/site-packages (from torch->bitsandbytes) (3.1.4)\n",
      "Requirement already satisfied: nvidia-cuda-nvrtc-cu11==11.7.99 in ./hydra-jupyter/lib/python3.10/site-packages (from torch->bitsandbytes) (11.7.99)\n",
      "Requirement already satisfied: nvidia-cuda-runtime-cu11==11.7.99 in ./hydra-jupyter/lib/python3.10/site-packages (from torch->bitsandbytes) (11.7.99)\n",
      "Requirement already satisfied: nvidia-cuda-cupti-cu11==11.7.101 in ./hydra-jupyter/lib/python3.10/site-packages (from torch->bitsandbytes) (11.7.101)\n",
      "Requirement already satisfied: nvidia-cudnn-cu11==8.5.0.96 in ./hydra-jupyter/lib/python3.10/site-packages (from torch->bitsandbytes) (8.5.0.96)\n",
      "Requirement already satisfied: nvidia-cublas-cu11==11.10.3.66 in ./hydra-jupyter/lib/python3.10/site-packages (from torch->bitsandbytes) (11.10.3.66)\n",
      "Requirement already satisfied: nvidia-cufft-cu11==10.9.0.58 in ./hydra-jupyter/lib/python3.10/site-packages (from torch->bitsandbytes) (10.9.0.58)\n",
      "Requirement already satisfied: nvidia-curand-cu11==10.2.10.91 in ./hydra-jupyter/lib/python3.10/site-packages (from torch->bitsandbytes) (10.2.10.91)\n",
      "Requirement already satisfied: nvidia-cusolver-cu11==11.4.0.1 in ./hydra-jupyter/lib/python3.10/site-packages (from torch->bitsandbytes) (11.4.0.1)\n",
      "Requirement already satisfied: nvidia-cusparse-cu11==11.7.4.91 in ./hydra-jupyter/lib/python3.10/site-packages (from torch->bitsandbytes) (11.7.4.91)\n",
      "Requirement already satisfied: nvidia-nccl-cu11==2.14.3 in ./hydra-jupyter/lib/python3.10/site-packages (from torch->bitsandbytes) (2.14.3)\n",
      "Requirement already satisfied: nvidia-nvtx-cu11==11.7.91 in ./hydra-jupyter/lib/python3.10/site-packages (from torch->bitsandbytes) (11.7.91)\n",
      "Requirement already satisfied: triton==2.0.0 in ./hydra-jupyter/lib/python3.10/site-packages (from torch->bitsandbytes) (2.0.0)\n",
      "Requirement already satisfied: setuptools in ./hydra-jupyter/lib/python3.10/site-packages (from nvidia-cublas-cu11==11.10.3.66->torch->bitsandbytes) (59.6.0)\n",
      "Requirement already satisfied: wheel in /usr/lib/python3/dist-packages (from nvidia-cublas-cu11==11.10.3.66->torch->bitsandbytes) (0.37.1)\n",
      "Requirement already satisfied: cmake in ./hydra-jupyter/lib/python3.10/site-packages (from triton==2.0.0->torch->bitsandbytes) (3.30.0)\n",
      "Requirement already satisfied: lit in ./hydra-jupyter/lib/python3.10/site-packages (from triton==2.0.0->torch->bitsandbytes) (18.1.8)\n",
      "Requirement already satisfied: MarkupSafe>=2.0 in ./hydra-jupyter/lib/python3.10/site-packages (from jinja2->torch->bitsandbytes) (2.1.5)\n",
      "Requirement already satisfied: mpmath<1.4,>=1.1.0 in ./hydra-jupyter/lib/python3.10/site-packages (from sympy->torch->bitsandbytes) (1.3.0)\n",
      "\u001b[33mWARNING: Ignoring invalid distribution -orch (/cluster/home/bwc/mm2404/hydra-jupyter/lib/python3.10/site-packages)\u001b[0m\u001b[33m\n",
      "\u001b[0m\u001b[33mWARNING: Ignoring invalid distribution -orch (/cluster/home/bwc/mm2404/hydra-jupyter/lib/python3.10/site-packages)\u001b[0m\u001b[33m\n",
      "\u001b[0m"
     ]
    }
   ],
   "source": [
    "!pip install evaluate\n",
    "!pip install datasets\n",
    "!pip install rouge_score\n",
    "!pip install --user -U nltk\n",
    "!pip install transformers\n",
    "!pip install -U bitsandbytes"
   ]
  },
  {
   "cell_type": "markdown",
   "id": "906e776e",
   "metadata": {},
   "source": [
    "**2. We load the dataset we will use for the evaluation**"
   ]
  },
  {
   "cell_type": "code",
   "execution_count": 2,
   "id": "cbd31477",
   "metadata": {},
   "outputs": [
    {
     "data": {
      "text/plain": [
       "Dataset({\n",
       "    features: ['dialog', 'summary'],\n",
       "    num_rows: 110\n",
       "})"
      ]
     },
     "execution_count": 2,
     "metadata": {},
     "output_type": "execute_result"
    }
   ],
   "source": [
    "from datasets import load_dataset\n",
    "\n",
    "dataset = load_dataset(\"Marouane50/Dialog-Summarization-Dataset\", split=\"testing\")\n",
    "dataset"
   ]
  },
  {
   "cell_type": "markdown",
   "id": "c391c540",
   "metadata": {},
   "source": [
    "**3. From the testing set of the dataset, we select a 10 random samples of dialogs and summaries pairs that we will use as reference values for the evaluation.**"
   ]
  },
  {
   "cell_type": "code",
   "execution_count": 3,
   "id": "2b5c9e15",
   "metadata": {},
   "outputs": [],
   "source": [
    "import random\n",
    "reference_summaries=[]\n",
    "reference_dialogs = []\n",
    "\n",
    "def get_random_summaries(dataset):\n",
    "    for i in range(0,109):\n",
    "        index = random.randint(0,109)\n",
    "        dataset[\"summary\"][index]\n",
    "        reference_summaries.append(dataset[\"summary\"][index])  # Append the summary to the reference summaries list\n",
    "        reference_dialogs.append(dataset[\"dialog\"][index])  # Append the dialog to the reference dialogs list\n",
    "\n",
    "get_random_summaries(dataset)"
   ]
  },
  {
   "cell_type": "code",
   "execution_count": 4,
   "id": "d750e01a",
   "metadata": {},
   "outputs": [
    {
     "name": "stdout",
     "output_type": "stream",
     "text": [
      "Customer is complaining about that not to allowing to sit in the middle seat. Agents says that they are able to sit in middle seat and moving forward it will be a better experience for seating arrangements the next time.\n",
      "user: it would have been really nice when I booked my ticket to get a heads up that my purchase ONLY allowed a middle seat. That's what they're telling me here at the gate in Atlanta, anyway... 🤷🏻‍♀️ I'm a traveler who reads the fine print, so this is disappointing\n",
      "agent: Hi Hadas, none of our tickets restrict you to middle seats only. If available, you should be able to move to a window or aisle. I'm sorry for the incorrect information. Please DM your confirm # and I can see if there is another seat to move to. *TJW \n",
      "user: I'll pull up your reply if I ever run into a similar issue. There were empty seats on the flight, and I moved. It seems that your gate agent simply didn't feel like making the effort to find me another seat. DL 1105 from Atlanta today. Thanks for replying.  And for the record - she told me flat out that the ticket I purchased allowed for middle seats only.\n",
      "agent: I am very sorry that you were told the wrong information. I'm glad you were able to move but I apologize that the agent did not assist you with this. I will forward this to Atlanta Leadership so they are aware of the incident. We are always here on Twitter to help, too. *TJW\n",
      "user: Thank you!\n",
      "agent: You are welcome. Have a wonderful week. *TJW\n",
      "user: You too. Glad to hear the policy is not what I was told.\n",
      "agent: Moving forward, I hope it will be a better experience for you for your seating arrangements the next time, Hadas. We value your patronage with us. Best to you and your travels that are coming! *ADB\n",
      "\n"
     ]
    }
   ],
   "source": [
    "print(reference_summaries[52])\n",
    "print(reference_dialogs[52])"
   ]
  },
  {
   "cell_type": "markdown",
   "id": "79344238",
   "metadata": {},
   "source": [
    "**LOADING MODELS**"
   ]
  },
  {
   "cell_type": "markdown",
   "id": "1aeae078",
   "metadata": {},
   "source": [
    "1. We load the base model and the fine-tuned model from Hugging Face Hub"
   ]
  },
  {
   "cell_type": "code",
   "execution_count": 5,
   "id": "f073642c",
   "metadata": {},
   "outputs": [],
   "source": [
    "base_model_name = \"NousResearch/Llama-2-7b-chat-hf\"\n",
    "trained_model_name = \"Marouane50/Dialog-Summarization-Finetuning\""
   ]
  },
  {
   "cell_type": "markdown",
   "id": "9df98e17",
   "metadata": {},
   "source": [
    "**2. We set up a QLoRA configuration and use it to load the models using quantization (same code as in finetuning file)**"
   ]
  },
  {
   "cell_type": "code",
   "execution_count": 6,
   "id": "ed8a7b61",
   "metadata": {},
   "outputs": [],
   "source": [
    "import torch\n",
    "import os\n",
    "from transformers import BitsAndBytesConfig\n",
    "\n",
    "compute_dtype = getattr(torch, \"float16\")\n",
    "\n",
    "bnb_config = BitsAndBytesConfig(\n",
    "    load_in_4bit = True,\n",
    "    bnb_4bit_quant_type=\"nf4\",\n",
    "    bnb_4bit_compute_dtype= compute_dtype,\n",
    "    bnb_4bit_use_double_quant=True\n",
    ")"
   ]
  },
  {
   "cell_type": "markdown",
   "id": "8fdd3c6a",
   "metadata": {},
   "source": [
    "**3. We load the base model Llama2 7B chat and use it to run a text generation pipeline**"
   ]
  },
  {
   "cell_type": "code",
   "execution_count": 7,
   "id": "d63ec33c",
   "metadata": {},
   "outputs": [
    {
     "name": "stderr",
     "output_type": "stream",
     "text": [
      "/home/bwc/mm2404/hydra-jupyter/lib/python3.10/site-packages/huggingface_hub/file_download.py:1132: FutureWarning: `resume_download` is deprecated and will be removed in version 1.0.0. Downloads always resume when possible. If you want to force a new download, use `force_download=True`.\n",
      "  warnings.warn(\n",
      "2024-08-30 11:29:12.785996: I tensorflow/core/util/port.cc:153] oneDNN custom operations are on. You may see slightly different numerical results due to floating-point round-off errors from different computation orders. To turn them off, set the environment variable `TF_ENABLE_ONEDNN_OPTS=0`.\n",
      "2024-08-30 11:29:14.564230: E external/local_xla/xla/stream_executor/cuda/cuda_fft.cc:485] Unable to register cuFFT factory: Attempting to register factory for plugin cuFFT when one has already been registered\n",
      "2024-08-30 11:29:15.896100: E external/local_xla/xla/stream_executor/cuda/cuda_dnn.cc:8454] Unable to register cuDNN factory: Attempting to register factory for plugin cuDNN when one has already been registered\n",
      "2024-08-30 11:29:16.081460: E external/local_xla/xla/stream_executor/cuda/cuda_blas.cc:1452] Unable to register cuBLAS factory: Attempting to register factory for plugin cuBLAS when one has already been registered\n",
      "2024-08-30 11:29:16.999425: I tensorflow/core/platform/cpu_feature_guard.cc:210] This TensorFlow binary is optimized to use available CPU instructions in performance-critical operations.\n",
      "To enable the following instructions: AVX2 AVX512F AVX512_VNNI FMA, in other operations, rebuild TensorFlow with the appropriate compiler flags.\n"
     ]
    },
    {
     "data": {
      "application/vnd.jupyter.widget-view+json": {
       "model_id": "7d607f481fc64599ae0798e9245853df",
       "version_major": 2,
       "version_minor": 0
      },
      "text/plain": [
       "Loading checkpoint shards:   0%|          | 0/2 [00:00<?, ?it/s]"
      ]
     },
     "metadata": {},
     "output_type": "display_data"
    },
    {
     "name": "stderr",
     "output_type": "stream",
     "text": [
      "/home/bwc/mm2404/hydra-jupyter/lib/python3.10/site-packages/huggingface_hub/file_download.py:1132: FutureWarning: `resume_download` is deprecated and will be removed in version 1.0.0. Downloads always resume when possible. If you want to force a new download, use `force_download=True`.\n",
      "  warnings.warn(\n"
     ]
    }
   ],
   "source": [
    "from transformers import AutoModelForCausalLM, AutoTokenizer\n",
    "\n",
    "model = AutoModelForCausalLM.from_pretrained(\n",
    "    base_model_name,\n",
    "    quantization_config = bnb_config,\n",
    "    device_map = {\"\": 0},\n",
    ")\n",
    "\n",
    "# Llama Tokenizer configuration\n",
    "tokenizer = AutoTokenizer.from_pretrained(base_model_name, add_eos_token=True, use_fast=True)\n",
    "tokenizer.pad_token_id = 18610\n",
    "tokenizer.padding_side = \"right\"\n"
   ]
  },
  {
   "cell_type": "code",
   "execution_count": 8,
   "id": "6e3b9ba4",
   "metadata": {},
   "outputs": [
    {
     "name": "stderr",
     "output_type": "stream",
     "text": [
      "/home/bwc/mm2404/hydra-jupyter/lib/python3.10/site-packages/transformers/generation/utils.py:1270: UserWarning: You have modified the pretrained model configuration to control generation. This is a deprecated strategy to control generation and will be removed soon, in a future version. Please use a generation configuration file (see https://huggingface.co/docs/transformers/main_classes/text_generation )\n",
      "  warnings.warn(\n",
      "/home/bwc/mm2404/hydra-jupyter/lib/python3.10/site-packages/transformers/pipelines/base.py:1083: UserWarning: You seem to be using the pipelines sequentially on GPU. In order to maximize efficiency please use a dataset\n",
      "  warnings.warn(\n"
     ]
    },
    {
     "name": "stdout",
     "output_type": "stream",
     "text": [
      "<s>[INST] <<SYS>> The following text is a conversation between a human and an agent. Write a summary of the conversation in two sentence. <</SYS>> user: it would have been really nice when I booked my ticket to get a heads up that my purchase ONLY allowed a middle seat. That's what they're telling me here at the gate in Atlanta, anyway... 🤷🏻‍♀️ I'm a traveler who reads the fine print, so this is disappointing\n",
      "agent: Hi Hadas, none of our tickets restrict you to middle seats only. If available, you should be able to move to a window or aisle. I'm sorry for the incorrect information. Please DM your confirm # and I can see if there is another seat to move to. *TJW \n",
      "user: I'll pull up your reply if I ever run into a similar issue. There were empty seats on the flight, and I moved. It seems that your gate agent simply didn't feel like making the effort to find me another seat. DL 1105 from Atlanta today. Thanks for replying.  And for the record - she told me flat out that the ticket I purchased allowed for middle seats only.\n",
      "agent: I am very sorry that you were told the wrong information. I'm glad you were able to move but I apologize that the agent did not assist you with this. I will forward this to Atlanta Leadership so they are aware of the incident. We are always here on Twitter to help, too. *TJW\n",
      "user: Thank you!\n",
      "agent: You are welcome. Have a wonderful week. *TJW\n",
      "user: You too. Glad to hear the policy is not what I was told.\n",
      "agent: Moving forward, I hope it will be a better experience for you for your seating arrangements the next time, Hadas. We value your patronage with us. Best to you and your travels that are coming! *ADB\n",
      " [/INST]  Sure! Here is a summary of the conversation in two sentences:\n",
      "\n",
      "A human named Hadas booked a flight ticket but was told at the gate in Atlanta that their purchase only allowed a middle seat, which was not what they were told when they booked. The agent apologized for the mistake and offered to help find another seat, but Hadas was able to move to an empty seat on the flight.\n"
     ]
    }
   ],
   "source": [
    "from transformers import pipeline\n",
    "\n",
    "# In this case, we need to specify in the prompt that the summary should only contain two sentences, to match the length of the summaries in our dataset.\n",
    "system_prompt = \"The following text is a conversation between a human and an agent. Write a summary of the conversation in two sentence.\"\n",
    "\n",
    "pipe = pipeline(\n",
    "    task=\"text-generation\",\n",
    "    model=model, \n",
    "    tokenizer=tokenizer, \n",
    "    max_length=1000 \n",
    ")\n",
    "\n",
    "# We use the first dialog from the testing set as an input, to be able to compare the output with the testing set summary\n",
    "base_model_summaries = []\n",
    "for i in range(0, 109):\n",
    "    result = pipe(f\"<s>[INST] <<SYS>> {system_prompt} <</SYS>> {reference_dialogs[i]} [/INST]\")\n",
    "    base_model_summaries.append(result[0]['generated_text'])\n",
    "    \n",
    "print(base_model_summaries[52])"
   ]
  },
  {
   "cell_type": "code",
   "execution_count": 9,
   "id": "09bc1db9",
   "metadata": {},
   "outputs": [
    {
     "name": "stdout",
     "output_type": "stream",
     "text": [
      "<s>[INST] <<SYS>> The following text is a conversation between a human and an agent. Write a summary of the conversation in two sentence. <</SYS>> user: it would have been really nice when I booked my ticket to get a heads up that my purchase ONLY allowed a middle seat. That's what they're telling me here at the gate in Atlanta, anyway... 🤷🏻‍♀️ I'm a traveler who reads the fine print, so this is disappointing\n",
      "agent: Hi Hadas, none of our tickets restrict you to middle seats only. If available, you should be able to move to a window or aisle. I'm sorry for the incorrect information. Please DM your confirm # and I can see if there is another seat to move to. *TJW \n",
      "user: I'll pull up your reply if I ever run into a similar issue. There were empty seats on the flight, and I moved. It seems that your gate agent simply didn't feel like making the effort to find me another seat. DL 1105 from Atlanta today. Thanks for replying.  And for the record - she told me flat out that the ticket I purchased allowed for middle seats only.\n",
      "agent: I am very sorry that you were told the wrong information. I'm glad you were able to move but I apologize that the agent did not assist you with this. I will forward this to Atlanta Leadership so they are aware of the incident. We are always here on Twitter to help, too. *TJW\n",
      "user: Thank you!\n",
      "agent: You are welcome. Have a wonderful week. *TJW\n",
      "user: You too. Glad to hear the policy is not what I was told.\n",
      "agent: Moving forward, I hope it will be a better experience for you for your seating arrangements the next time, Hadas. We value your patronage with us. Best to you and your travels that are coming! *ADB\n",
      " [/INST]  Sure! Here is a summary of the conversation in two sentences:\n",
      "\n",
      "A human named Hadas booked a flight ticket but was told at the gate in Atlanta that their purchase only allowed a middle seat, which was not what they were told when they booked. The agent apologized for the mistake and offered to help find another seat, but Hadas was able to move to an empty seat on the flight.\n"
     ]
    }
   ],
   "source": [
    "print(base_model_summaries[52])"
   ]
  },
  {
   "cell_type": "markdown",
   "id": "0ab3d2ab",
   "metadata": {},
   "source": [
    "**3. Then we load the fine-tuned model and use it to run another text generation pipeline**"
   ]
  },
  {
   "cell_type": "code",
   "execution_count": 10,
   "id": "e5d3cb5d",
   "metadata": {},
   "outputs": [
    {
     "name": "stderr",
     "output_type": "stream",
     "text": [
      "/home/bwc/mm2404/hydra-jupyter/lib/python3.10/site-packages/huggingface_hub/file_download.py:1132: FutureWarning: `resume_download` is deprecated and will be removed in version 1.0.0. Downloads always resume when possible. If you want to force a new download, use `force_download=True`.\n",
      "  warnings.warn(\n"
     ]
    },
    {
     "data": {
      "application/vnd.jupyter.widget-view+json": {
       "model_id": "ea88bebc31154357937ea1411b35f53b",
       "version_major": 2,
       "version_minor": 0
      },
      "text/plain": [
       "Loading checkpoint shards:   0%|          | 0/2 [00:00<?, ?it/s]"
      ]
     },
     "metadata": {},
     "output_type": "display_data"
    }
   ],
   "source": [
    "# Trained Model configuration\n",
    "finetuned_model = AutoModelForCausalLM.from_pretrained(\n",
    "    trained_model_name,\n",
    "    quantization_config = bnb_config,\n",
    "    device_map = {\"\": 0},\n",
    ")\n",
    "\n",
    "# Llama Tokenizer configuration\n",
    "tokenizer = AutoTokenizer.from_pretrained(trained_model_name, add_eos_token=True, use_fast=True)\n",
    "tokenizer.pad_token_id = 18610\n",
    "tokenizer.padding_side = \"right\"\n"
   ]
  },
  {
   "cell_type": "code",
   "execution_count": 11,
   "id": "8351c87e",
   "metadata": {},
   "outputs": [
    {
     "data": {
      "text/plain": [
       "\"<s>[INST] <<SYS>> The following text is a conversation between a human and an AI agent. Write a summary of the conversation. <</SYS>> user: it would have been really nice when I booked my ticket to get a heads up that my purchase ONLY allowed a middle seat. That's what they're telling me here at the gate in Atlanta, anyway... 🤷🏻\\u200d♀️ I'm a traveler who reads the fine print, so this is disappointing\\nagent: Hi Hadas, none of our tickets restrict you to middle seats only. If available, you should be able to move to a window or aisle. I'm sorry for the incorrect information. Please DM your confirm # and I can see if there is another seat to move to. *TJW \\nuser: I'll pull up your reply if I ever run into a similar issue. There were empty seats on the flight, and I moved. It seems that your gate agent simply didn't feel like making the effort to find me another seat. DL 1105 from Atlanta today. Thanks for replying.  And for the record - she told me flat out that the ticket I purchased allowed for middle seats only.\\nagent: I am very sorry that you were told the wrong information. I'm glad you were able to move but I apologize that the agent did not assist you with this. I will forward this to Atlanta Leadership so they are aware of the incident. We are always here on Twitter to help, too. *TJW\\nuser: Thank you!\\nagent: You are welcome. Have a wonderful week. *TJW\\nuser: You too. Glad to hear the policy is not what I was told.\\nagent: Moving forward, I hope it will be a better experience for you for your seating arrangements the next time, Hadas. We value your patronage with us. Best to you and your travels that are coming! *ADB\\n [/INST] Customer is complaining that he was told that the ticket he purchased allowed for middle seats only. Agent updated that none of their tickets restrict them to middle seats only and if available they should be able to move to a window or aisle.\""
      ]
     },
     "execution_count": 11,
     "metadata": {},
     "output_type": "execute_result"
    }
   ],
   "source": [
    "from transformers import pipeline\n",
    "\n",
    "system_prompt = \"The following text is a conversation between a human and an AI agent. Write a summary of the conversation.\"\n",
    "\n",
    "pipe = pipeline(\n",
    "    task=\"text-generation\",\n",
    "    model=finetuned_model, \n",
    "    tokenizer=tokenizer, \n",
    "    max_length=1000 \n",
    ")\n",
    "\n",
    "# We use the first dialog from the testing set as an input, to be able to compare the output with the testing set summary\n",
    "trained_model_summaries = []\n",
    "for i in range(0, 109):\n",
    "    result = pipe(f\"<s>[INST] <<SYS>> {system_prompt} <</SYS>> {reference_dialogs[i]} [/INST]\")\n",
    "    trained_model_summaries.append(result[0]['generated_text'])\n",
    "    \n",
    "trained_model_summaries[52]"
   ]
  },
  {
   "cell_type": "code",
   "execution_count": 12,
   "id": "86732a32-d769-46e5-8acb-21985288e362",
   "metadata": {},
   "outputs": [
    {
     "data": {
      "text/plain": [
       "\"<s>[INST] <<SYS>> The following text is a conversation between a human and an AI agent. Write a summary of the conversation. <</SYS>> user: it would have been really nice when I booked my ticket to get a heads up that my purchase ONLY allowed a middle seat. That's what they're telling me here at the gate in Atlanta, anyway... 🤷🏻\\u200d♀️ I'm a traveler who reads the fine print, so this is disappointing\\nagent: Hi Hadas, none of our tickets restrict you to middle seats only. If available, you should be able to move to a window or aisle. I'm sorry for the incorrect information. Please DM your confirm # and I can see if there is another seat to move to. *TJW \\nuser: I'll pull up your reply if I ever run into a similar issue. There were empty seats on the flight, and I moved. It seems that your gate agent simply didn't feel like making the effort to find me another seat. DL 1105 from Atlanta today. Thanks for replying.  And for the record - she told me flat out that the ticket I purchased allowed for middle seats only.\\nagent: I am very sorry that you were told the wrong information. I'm glad you were able to move but I apologize that the agent did not assist you with this. I will forward this to Atlanta Leadership so they are aware of the incident. We are always here on Twitter to help, too. *TJW\\nuser: Thank you!\\nagent: You are welcome. Have a wonderful week. *TJW\\nuser: You too. Glad to hear the policy is not what I was told.\\nagent: Moving forward, I hope it will be a better experience for you for your seating arrangements the next time, Hadas. We value your patronage with us. Best to you and your travels that are coming! *ADB\\n [/INST] Customer is complaining that he was told that the ticket he purchased allowed for middle seats only. Agent updated that none of their tickets restrict them to middle seats only and if available they should be able to move to a window or aisle.\""
      ]
     },
     "execution_count": 12,
     "metadata": {},
     "output_type": "execute_result"
    }
   ],
   "source": [
    "trained_model_summaries[52]"
   ]
  },
  {
   "cell_type": "markdown",
   "id": "0fd519fb-ad24-49b4-9c4d-c3bd6d81ab2b",
   "metadata": {},
   "source": [
    "<b> We create two functions to clean the summaries text outputs from the base model and the fine-tuned model </b> "
   ]
  },
  {
   "cell_type": "code",
   "execution_count": 13,
   "id": "9266f040",
   "metadata": {},
   "outputs": [],
   "source": [
    "def clean_base_summaries(generated_summaries):\n",
    "    for i in range(0,len(generated_summaries)):\n",
    "        text = generated_summaries[i]\n",
    "        index = text.find(\"\\n\\n\")\n",
    "        summary = text[index:]\n",
    "        summary = summary.strip()\n",
    "        generated_summaries[i] = summary\n",
    "        i += 1\n",
    "        \n",
    "def clean_trained_summaries(generated_summaries):\n",
    "    for i in range(0,len(generated_summaries)):\n",
    "        text = generated_summaries[i]\n",
    "        index = text.find(\"[/INST]\")\n",
    "        summary = text[index+8:]\n",
    "        summary = summary.strip()\n",
    "        generated_summaries[i] = summary\n",
    "        i += 1"
   ]
  },
  {
   "cell_type": "code",
   "execution_count": 15,
   "id": "f71bf1c1",
   "metadata": {},
   "outputs": [
    {
     "data": {
      "text/plain": [
       "['Customer is complaining about the service. Agent updated that they are an English speaking team and asked to continue in English.',\n",
       " \"Customer is complaining that he was underpaid for August/September and he is still not sure what's going on. Agent updated that they need to chase with the store and they will need to contact them again for him.\",\n",
       " 'Customer is complaining that he is not able to get red zone since yesterday when he renewed his ultimate HD from an online chat. Agent updated that please follow and DM us for assistance.',\n",
       " 'Customer is complaining that the song has been replaced with other song. Agent updated that everything looks good on their end and asked to tell the device, operating system and version of Spotify they are using.',\n",
       " 'Customer is asking about the train route. Agent updated the customer that the train will go via Chippenham and arrives at 19:05.',\n",
       " 'Customer is complaining about the empty first class carriages on a packed train. Agent updates that it is a decision taken by the train manager based on the conditions on board.',\n",
       " 'Customer is complaining about the map module in LRCC. Agent updated that they will loop in an expert who can help them out.',\n",
       " \"Customer is complaining about the delay in getting refund. Agent updated that they can't do anything to speed up the refund via this channel and they will be with them soon.\",\n",
       " 'Customer is complaining that he paid for Amazon prime membership to get his delivery on a nominated day but it was not delivered on the day specified. Agent updated that they want to make sure this is fully resolved for him.',\n",
       " 'Customer is complaining about the smell in the aircraft. Agent updated that they are full on their DL1287 flight for today and suggested to reach out to one of their in-flight crew members on duty.',\n",
       " 'Customer is complaining that the trash button on email notification does not work on latest iOS. Agent asks to DM and they will go from there.',\n",
       " \"Customer is complaining that the app updated his plan using his new improved times and cut next week's runs by more than half and slowed his times even more. Agent asked to provide screenshots of what he is seeing and informed to call over the phone.\",\n",
       " \"Customer is complaining that his phone doesn't perform as it should. Agent updated that they will continue in DM.\",\n",
       " 'Customer is complaining about the issue of adding a custom log import configuration. Agent updated that they have alerted the team and they should reply to the forum post ASAP.',\n",
       " 'Customer is complaining about the delay in the train. Agent updated that there are two separate incidents on their network this morning which have led to delays.',\n",
       " 'Customer is complaining about the service provided by the agent. Agent updated the customer to follow the link to details on compensation in line with EU regulations.',\n",
       " 'Customer is asking for the strobe lighting in coach C. Agent is asking for the destination.',\n",
       " 'Customer is complaining that the controller is not working and he wants to exchange it with a new one. Agent is asking to reach out to the chat team to try and ensure that happens.',\n",
       " 'Customer is complaining that Siri do not work on iPhone 8 plus. Agent updated the customer to create a backup with iTunes or iCloud and update the software.',\n",
       " 'Customer is complaining that the auto check in on the iOS app checked him in as standby on his flight on which he usually gets upgraded. Agent updated that please check your app settings and if unable to locate it please contact online support team.',\n",
       " 'Customer is complaining about the error he gets 87% of the time. Agent asks to disconnect the power cord for a full 5 mins and then try to order or watch something on OnDemand.',\n",
       " 'Customer is enquiring about the flight number from CGK to KUL 8.30am. Agent updated that they will meet the flight today at 08.35 correct and provided a case number or booking number for a check.',\n",
       " 'Customer is complaining about the delay in the train. Agent updated that there are two separate incidents on their network this morning which have led to delays.',\n",
       " 'Customer is complaining that he paid for Amazon prime membership to get his delivery on a nominated day but it was not delivered on the day specified. Agent updated that they want to make sure this is fully resolved for him.',\n",
       " 'Customer is complaining about the service provided by the agent. Agent is asking to not continue swearing at him.',\n",
       " 'Customer is complaining that they are not able to get any help from customer services unless they are prepared to part with another £400 to get home with a disabled wife without changing trains. Agent updated that the only way to change it would be to pay for a change of journey.',\n",
       " 'Customer is complaining about the packaging of the item which was received from UK. Agent updated that they will be unable to provide the contact info for Pitney Bowes.',\n",
       " \"Customer is complaining that he was underpaid for August/September and he is still not sure what's going on. Agent updated that they need to chase with the store and they will need to contact them again for him.\",\n",
       " 'Customer is complaining about the stock of super mario odyssey and sonic forces in sainsburys. Agent updated that they will not hold any stock for customers and sorry to disappoint.',\n",
       " \"Customer is complaining about the delay in getting refund. Agent updated that they can't do anything to speed up the refund via this channel and they will be with them soon.\",\n",
       " 'Customer is complaining about the issue with the iPhone. Agent updated the customer to restore the iPhone via recovery mode.',\n",
       " 'Customer is complaining about the problem with the HP Envy printer. Agent updated the customer to send a private message and they will work to resolve.',\n",
       " \"Customer is complaining that he was sent to Annas Mall where he didn't find the team. Agent updated that they can visit any authorized dealer or the other shops in town for one.\",\n",
       " 'Customer is complaining about the stock of super mario odyssey and sonic forces in sainsburys. Agent updated that they will not hold any stock for customers and sorry to disappoint.',\n",
       " 'Customer is complaining about the error CE-30022-7. Agent updated that they will update if it arises again.',\n",
       " 'Customer is complaining about the delay in the train. Agent updated that there are two separate incidents on their network this morning which have led to delays.',\n",
       " 'Customer is asking about how to do red eye removal in lightroom cc. Agent updated the URL to show the customer how to use the red eye removal in lightroom cc.',\n",
       " \"Customer is complaining that the headphones doesn't work on his computer anymore. Agent updated the customer to try using a different headphone to check if it was his headphone having a problem.\",\n",
       " \"Customer is complaining that his BITS service resets it's Startup type from disabled to automatic. Agent updated that they will contact answer desk to further assist them with their concern.\",\n",
       " 'Customer is complaining about the internet service which goes in and out and fluctuates a lot. Agent requests to DM so that he can look further into this for the customer.',\n",
       " 'Customer is complaining about the internet service which goes in and out and fluctuates a lot. Agent requests to DM so that he can look further into this for the customer.',\n",
       " 'Customer is complaining about the price increase of sweet potato. Agent updated that they will strive to give their customers the best possible value and asked to DM his full name, address and email.',\n",
       " 'Customer is having problem with site to site VPN and PowerShell. Agent updated that they found some documentation that might help with this and asked to check back in and see if the documentation provided has helped them.',\n",
       " 'Customer is complaining that they are not able to get any help from customer services unless they are prepared to part with another £400 to get home with a disabled wife without changing trains. Agent updated that the only way to change it would be to pay for a change of journey.',\n",
       " 'Customer is complaining about the network issue. Agent requests to share the alternate number.',\n",
       " 'Customer is asking to link his account to his current number. Agent updated the case manager who will be following up with him shortly.',\n",
       " \"Customer is complaining that even when someone tries their hardest to rectify the situation and you still don't have compassion. Agent updated that please let us know if you change your mind and would like us to review your account with you.\",\n",
       " 'Customer is complaining about the transfer fee charged by delta. Agent updated that there may not have been enough miles in one account for the trip.',\n",
       " 'Customer is complaining about the phone call. Agent updated that the item will be held until the store closes on that day.',\n",
       " \"Customer is complaining that his BITS service resets it's Startup type from disabled to automatic. Agent updated that they will contact answer desk to further assist them with their concern.\",\n",
       " 'Customer is complaining that he is locked out of his email and cannot seem to get the forms right. Agent updated that they are always here to help and asked to send a direct message if they need assistance.',\n",
       " 'Customer is complaining about the error he gets 87% of the time. Agent asks to disconnect the power cord for a full 5 mins and then try to order or watch something on OnDemand.',\n",
       " 'Customer is complaining that he was told that the ticket he purchased allowed for middle seats only. Agent updated that none of their tickets restrict them to middle seats only and if available they should be able to move to a window or aisle.',\n",
       " \"Customer is complaining that he was sent to Annas Mall where he didn't find the team. Agent updated that they can visit any authorized dealer or the other shops in town for one.\",\n",
       " 'Customer is complaining about the problem with desktop website. Agent updated that they are working on a fix as we speak.',\n",
       " 'Customer is asking about the maintenance of the website. Agent updated that they are not aware of any technical issues with their website at the moment.',\n",
       " 'Customer is complaining that the song has been replaced with other song. Agent updated that everything looks good on their end and asked to tell the device, operating system and version of Spotify they are using.',\n",
       " 'Customer is complaining that he is still waiting for his refund. Agent updated that they are waiting for an update from their payment team and once they have further information, they will contact him.',\n",
       " 'Customer is complaining about the delivery of the parcel. Agent updated that they will need the tracking number to see what specifically is going on.',\n",
       " 'Customer is complaining about the delay in flight. Agent updated that the current departure time is shown in the app and email.',\n",
       " 'Customer is complaining that he is unable to make or receive calls. Agent updated that they will continue in DM.',\n",
       " 'Customer is complaining about the problem with the HP Envy printer. Agent updated the customer to send a private message and they will work to resolve.',\n",
       " 'Customer is complaining that Siri do not work on iPhone 8 plus. Agent updated the customer to create a backup with iTunes or iCloud and update the software.',\n",
       " 'Customer is asking to link his account to his current number. Agent updated the case manager who will be following up with him shortly.',\n",
       " 'Customer is complaining about the horrible customer service and from a so-called \"supervisor\" at that. Agent updated that they want to make sure that they are satisfied with Sprint.',\n",
       " 'Customer is complaining about the smell in the aircraft. Agent updated that they are full on their DL1287 flight for today and suggested to reach out to one of their in-flight crew members on duty.',\n",
       " \"Customer is complaining that his phone doesn't perform as it should. Agent updated that they will continue in DM.\",\n",
       " 'Customer is complaining that he was given the wrong copy of the game. Agent updated that they would need to speak to EA.',\n",
       " 'Customer is complaining about the problem with the HP Envy printer. Agent updated the customer to send a private message and they will work to resolve.',\n",
       " 'Customer is complaining about the error CE-30022-7. Agent updated that they will update if it arises again.',\n",
       " 'Customer is complaining about the windows 10 update. Agent updated the customer to visit the link to help them change their notification and action settings.',\n",
       " 'Customer is complaining about the train service. Agent updated that the line is open again and trains can now run between Wokingham and Reading.',\n",
       " \"Customer is complaining that air pods are connected but don't play audio anymore. Agent updated to iOS 11.1 and informed to create a backup of the data on both devices.\",\n",
       " \"Customer is complaining about the web player which is stuck on the ad even after refresh, restart, re-log in and trying on different computer. Agent updated to send the account's email address or username via DM.\",\n",
       " \"Customer is complaining about the service. Agent updated that they don't offer support unless they have a box.\",\n",
       " 'Customer is complaining about the middle seat when he had a perfectly good aisle seat. Agent updates that if the airport has control then he is unable to reassign the seat.',\n",
       " 'Customer is complaining about the map module in LRCC. Agent updated that they will loop in an expert who can help them out.',\n",
       " 'Customer is complaining about the issue of adding a custom log import configuration. Agent updated that they have alerted the team and they should reply to the forum post ASAP.',\n",
       " 'Customer is complaining about the problem with the HP Envy printer. Agent updated the customer to send a private message and they will work to resolve.',\n",
       " 'Customer is complaining about the delayed flight. Agent updated that they will review the issue and will DM once they land.',\n",
       " 'Customer is complaining about the service provided by the company. Agent updated that they can double check the services by the address.',\n",
       " 'Customer is complaining that he is still waiting for his refund. Agent updated that they are waiting for an update from their payment team and once they have further information, they will contact him.',\n",
       " 'Customer is asking about the train route. Agent updated the customer that the train will go via Chippenham and arrives at 19:05.',\n",
       " 'Customer is complaining about the service. Agent updated that they are an English speaking team and asked to continue in English.',\n",
       " 'Customer is complaining that he was told that the ticket he purchased allowed for middle seats only. Agent updated that none of their tickets restrict them to middle seats only and if available they should be able to move to a window or aisle.',\n",
       " 'Customer is complaining about the service provided by the agent. Agent updated the customer to follow the link to details on compensation in line with EU regulations.',\n",
       " 'Customer is unable to book seats online and very unhelpful customer service agents. Agent states that they will pass the comments to the airport managers.',\n",
       " 'Customer is looking to change his flight on Friday. Agent updated that the difference in fare is $185.30 and it is non refundable changeable with a fee.',\n",
       " 'Customer is complaining that Siri do not work on iPhone 8 plus. Agent updated the customer to create a backup with iTunes or iCloud and update the software.',\n",
       " 'Customer is unable to book seats online and very unhelpful customer service agents. Agent states that they will pass the comments to the airport managers.',\n",
       " 'Customer is complaining about the password reset email never arrives. Agent updated to DM his full name, address and email so that they may look into this.',\n",
       " 'Customer is asking about the sky club guest for platinum medallion. Agent updated that the passenger must be traveling under the same pnr (reservation) as the customer.',\n",
       " 'Customer is complaining that the controller is not working and he wants to exchange it with a new one. Agent is asking to reach out to the chat team to try and ensure that happens.',\n",
       " 'Customer is complaining about the halloween cake. Agent updated that they need a few days advance notice to get the order in.',\n",
       " 'Customer is complaining about the issue of adding two bags on his account. Agent updated that they are able to assist with adding your bag.',\n",
       " \"Customer is complaining about the web player which is stuck on the ad even after refresh, restart, re-log in and trying on different computer. Agent updated to send the account's email address or username via DM.\",\n",
       " \"Customer is complaining about the delay in getting refund. Agent updated that they can't do anything to speed up the refund via this channel and they will be with them soon.\",\n",
       " 'Customer is complaining about the network issue. Agent requests to share the alternate number.',\n",
       " 'Customer is complaining that the app is not working on the app for the roku. Agent updated that if customer would like to follow them and DM their account details (phone number and full address), he would be happy to check into this for them.',\n",
       " 'Customer is complaining about the password reset email never arrives. Agent updated to DM his full name, address and email so that they may look into this.',\n",
       " 'Customer is asking about the train route. Agent updated the customer that the train will go via Chippenham and arrives at 19:05.',\n",
       " \"Customer is complaining about the delay in getting refund. Agent updated that they can't do anything to speed up the refund via this channel and they will be with them soon.\",\n",
       " 'Customer is complaining about the issue of adding a custom log import configuration. Agent updated that they have alerted the team and they should reply to the forum post ASAP.',\n",
       " 'Customer is complaining about the issue with the app. Agent updated the customer to uninstall the app, delete the browsing history, then go to the App store and make sure they have the latest version of IOS and Safari installed.',\n",
       " 'Customer is complaining about the issue with the app. Agent updated the customer to uninstall the app, delete the browsing history, then go to the App store and make sure they have the latest version of IOS and Safari installed.',\n",
       " \"Customer is complaining that he has subscribed to  and it isn't working. Agent updated that they will connect with their play music specialist to sort this out.\",\n",
       " \"Customer is complaining about the service. Agent updated that they don't offer support unless they have a box.\",\n",
       " 'Customer is complaining about the delivery of the parcel. Agent updated that they will need the tracking number to see what specifically is going on.',\n",
       " 'Customer is enquiring about the game. Agent updated that they have fixed the issue and it will take overnight for the website to update.']"
      ]
     },
     "execution_count": 15,
     "metadata": {},
     "output_type": "execute_result"
    }
   ],
   "source": [
    "clean_trained_summaries(trained_model_summaries)\n",
    "trained_model_summaries"
   ]
  },
  {
   "cell_type": "markdown",
   "id": "4e0a7619",
   "metadata": {},
   "source": [
    "<h1> Evaluating the Models </h1>"
   ]
  },
  {
   "cell_type": "markdown",
   "id": "2da0367b",
   "metadata": {},
   "source": [
    "**We use the rouge metric from the evaluate library to evaluate the summaries**"
   ]
  },
  {
   "cell_type": "code",
   "execution_count": 16,
   "id": "6241ca59",
   "metadata": {},
   "outputs": [],
   "source": [
    "import evaluate\n",
    "\n",
    "rouge_score = evaluate.load(\"rouge\") # We load the ROUGE metric from the evaluate libray, used to evaluate performance of NLP models"
   ]
  },
  {
   "cell_type": "markdown",
   "id": "29ef7c75",
   "metadata": {},
   "source": [
    "**We create a function to preprocess the summaries text into the right format for ROUGE evaluation**"
   ]
  },
  {
   "cell_type": "code",
   "execution_count": 17,
   "id": "40f8ab10",
   "metadata": {},
   "outputs": [],
   "source": [
    "from nltk.tokenize import sent_tokenize\n",
    "\n",
    "import nltk\n",
    "\n",
    "    \n",
    "def compute_rouge_score(generated, reference):\n",
    "    #We need to add '\\n' to each line before send it to ROUGE\n",
    "    generated_with_newlines = [\"\\n\".join(sent_tokenize(s.strip())) for s in generated]\n",
    "    reference_with_newlines = [\"\\n\".join(sent_tokenize(s.strip())) for s in reference]\n",
    "    \n",
    "    return rouge_score.compute(\n",
    "        predictions=generated_with_newlines,\n",
    "        references=reference_with_newlines,\n",
    "        use_stemmer=True,\n",
    "    )"
   ]
  },
  {
   "cell_type": "code",
   "execution_count": 18,
   "id": "05966347",
   "metadata": {},
   "outputs": [
    {
     "name": "stderr",
     "output_type": "stream",
     "text": [
      "[nltk_data] Downloading package punkt_tab to\n",
      "[nltk_data]     /home/bwc/mm2404/nltk_data...\n",
      "[nltk_data]   Package punkt_tab is already up-to-date!\n"
     ]
    },
    {
     "data": {
      "text/plain": [
       "True"
      ]
     },
     "execution_count": 18,
     "metadata": {},
     "output_type": "execute_result"
    }
   ],
   "source": [
    "import nltk\n",
    "nltk.download('punkt_tab')"
   ]
  },
  {
   "cell_type": "markdown",
   "id": "ad04681d",
   "metadata": {},
   "source": [
    "**We calculate the ROUGE score for the fine-tuned model**\n"
   ]
  },
  {
   "cell_type": "code",
   "execution_count": 19,
   "id": "6407908d",
   "metadata": {},
   "outputs": [
    {
     "data": {
      "text/plain": [
       "{'rouge1': 0.41663237765201144,\n",
       " 'rouge2': 0.16639466082132004,\n",
       " 'rougeL': 0.35068340520561314,\n",
       " 'rougeLsum': 0.38302333710527847}"
      ]
     },
     "execution_count": 19,
     "metadata": {},
     "output_type": "execute_result"
    }
   ],
   "source": [
    "compute_rouge_score(trained_model_summaries, reference_summaries)"
   ]
  },
  {
   "cell_type": "markdown",
   "id": "2c3cab28",
   "metadata": {},
   "source": [
    "**We calculate the ROUGE score for the base model**"
   ]
  },
  {
   "cell_type": "code",
   "execution_count": 20,
   "id": "338eceb9",
   "metadata": {},
   "outputs": [
    {
     "data": {
      "text/plain": [
       "{'rouge1': 0.2483411034944527,\n",
       " 'rouge2': 0.07590462700332945,\n",
       " 'rougeL': 0.18625173240662685,\n",
       " 'rougeLsum': 0.21806146395689494}"
      ]
     },
     "execution_count": 20,
     "metadata": {},
     "output_type": "execute_result"
    }
   ],
   "source": [
    "compute_rouge_score(base_model_summaries, reference_summaries)"
   ]
  },
  {
   "cell_type": "code",
   "execution_count": 21,
   "id": "bd7181f4-a400-40c3-a6e9-ebb59684a597",
   "metadata": {},
   "outputs": [
    {
     "name": "stdout",
     "output_type": "stream",
     "text": [
      "huggingface/tokenizers: The current process just got forked, after parallelism has already been used. Disabling parallelism to avoid deadlocks...\n",
      "To disable this warning, you can either:\n",
      "\t- Avoid using `tokenizers` before the fork if possible\n",
      "\t- Explicitly set the environment variable TOKENIZERS_PARALLELISM=(true | false)\n",
      "\u001b[33mWARNING: Ignoring invalid distribution -orch (/cluster/home/bwc/mm2404/hydra-jupyter/lib/python3.10/site-packages)\u001b[0m\u001b[33m\n",
      "\u001b[0m\u001b[31mERROR: Could not find a version that satisfies the requirement matpotlib (from versions: none)\u001b[0m\u001b[31m\n",
      "\u001b[0m\u001b[31mERROR: No matching distribution found for matpotlib\u001b[0m\u001b[31m\n",
      "\u001b[0m"
     ]
    }
   ],
   "source": [
    "!pip install matpotlib\n"
   ]
  },
  {
   "cell_type": "code",
   "execution_count": 22,
   "id": "e8d3de03-d173-4d74-a064-244ae15482f3",
   "metadata": {},
   "outputs": [
    {
     "data": {
      "image/png": "[encoded data removed]",
      "text/plain": [
       "<Figure size 800x400 with 1 Axes>"
      ]
     },
     "metadata": {},
     "output_type": "display_data"
    },
    {
     "data": {
      "text/plain": [
       "<Figure size 640x480 with 0 Axes>"
      ]
     },
     "metadata": {},
     "output_type": "display_data"
    }
   ],
   "source": [
    "import matplotlib.pyplot as plt\n",
    "import numpy as np\n",
    "\n",
    "rouge_scores_1 = {\n",
    "    'ROUGE-1': 0.23379845539989186*100,\n",
    "    'ROUGE-2': 0.05134518409007537*100,\n",
    "    'ROUGE-L': 0.17608096348754382*100,\n",
    "    'ROUGE-Lsum': 0.20053441116825088*100\n",
    "}\n",
    "rouge_scores_2 = {\n",
    "    'ROUGE-1': 0.40359236874761295*100,\n",
    "    'ROUGE-2': 0.15851020592554219*100,\n",
    "    'ROUGE-L': 0.35390641825963687*100,\n",
    "    'ROUGE-Lsum': 0.38850303279725756*100\n",
    "}\n",
    "\n",
    "labels = list(rouge_scores_1.keys())\n",
    "values1 = list(rouge_scores_1.values())\n",
    "values2 = list(rouge_scores_2.values())\n",
    "\n",
    "bar_width = 0.35\n",
    "\n",
    "r1 = np.arange(len(labels))\n",
    "r2 = [x + bar_width for x in r1]\n",
    "\n",
    "plt.figure(figsize=(8, 4))\n",
    "plt.bar(r1, values1, color='blue', width=bar_width, edgecolor='grey', label='Llama2 7b')\n",
    "plt.bar(r2, values2, color='green', width=bar_width, edgecolor='grey', label='Fine-tuned Model')\n",
    "\n",
    "plt.xlabel('Metrics')\n",
    "plt.ylabel('Recall Score (%)')\n",
    "plt.title('Comparison of ROUGE Scores')\n",
    "plt.xticks([r + bar_width/2 for r in range(len(labels))], labels)\n",
    "\n",
    "plt.legend()\n",
    "\n",
    "plt.show()\n",
    "\n",
    "plt.savefig('rouge_scores.png')"
   ]
  },
  {
   "cell_type": "markdown",
   "id": "d1187b0d",
   "metadata": {},
   "source": [
    "The higher the ROUGE score for all metrics (Rouge1, Rouge2, RougeL, RougeLsum) the better the performance of the model in dialog summarization compared to the reference summaries in the dataset. The evaluation of the fine-tuned model should show higher ROUGE score than the base model when compared to the testing set summaries to prove that the training had an effect."
   ]
  },
  {
   "cell_type": "markdown",
   "id": "0f171a21-41bc-4bb1-8028-bf33d42834c4",
   "metadata": {},
   "source": [
    "<h2> BERT Score Evaluation </h2>"
   ]
  },
  {
   "cell_type": "code",
   "execution_count": 23,
   "id": "30f49f90-ce81-4df4-bbc8-994377c23f34",
   "metadata": {},
   "outputs": [
    {
     "name": "stdout",
     "output_type": "stream",
     "text": [
      "huggingface/tokenizers: The current process just got forked, after parallelism has already been used. Disabling parallelism to avoid deadlocks...\n",
      "To disable this warning, you can either:\n",
      "\t- Avoid using `tokenizers` before the fork if possible\n",
      "\t- Explicitly set the environment variable TOKENIZERS_PARALLELISM=(true | false)\n",
      "\u001b[33mWARNING: Ignoring invalid distribution -orch (/cluster/home/bwc/mm2404/hydra-jupyter/lib/python3.10/site-packages)\u001b[0m\u001b[33m\n",
      "\u001b[0mRequirement already satisfied: bert-score in ./hydra-jupyter/lib/python3.10/site-packages (0.3.13)\n",
      "Requirement already satisfied: torch>=1.0.0 in ./hydra-jupyter/lib/python3.10/site-packages (from bert-score) (2.0.1)\n",
      "Requirement already satisfied: pandas>=1.0.1 in ./hydra-jupyter/lib/python3.10/site-packages (from bert-score) (2.2.2)\n",
      "Requirement already satisfied: transformers>=3.0.0 in ./hydra-jupyter/lib/python3.10/site-packages (from bert-score) (4.31.0)\n",
      "Requirement already satisfied: numpy in ./hydra-jupyter/lib/python3.10/site-packages (from bert-score) (1.26.4)\n",
      "Requirement already satisfied: requests in ./hydra-jupyter/lib/python3.10/site-packages (from bert-score) (2.32.3)\n",
      "Requirement already satisfied: tqdm>=4.31.1 in ./hydra-jupyter/lib/python3.10/site-packages (from bert-score) (4.66.4)\n",
      "Requirement already satisfied: matplotlib in ./hydra-jupyter/lib/python3.10/site-packages (from bert-score) (3.9.1)\n",
      "Requirement already satisfied: packaging>=20.9 in ./hydra-jupyter/lib/python3.10/site-packages (from bert-score) (23.2)\n",
      "Requirement already satisfied: python-dateutil>=2.8.2 in ./hydra-jupyter/lib/python3.10/site-packages (from pandas>=1.0.1->bert-score) (2.9.0.post0)\n",
      "Requirement already satisfied: pytz>=2020.1 in /usr/lib/python3/dist-packages (from pandas>=1.0.1->bert-score) (2022.1)\n",
      "Requirement already satisfied: tzdata>=2022.7 in ./hydra-jupyter/lib/python3.10/site-packages (from pandas>=1.0.1->bert-score) (2024.1)\n",
      "Requirement already satisfied: filelock in /usr/lib/python3/dist-packages (from torch>=1.0.0->bert-score) (3.6.0)\n",
      "Requirement already satisfied: typing-extensions in ./hydra-jupyter/lib/python3.10/site-packages (from torch>=1.0.0->bert-score) (4.12.2)\n",
      "Requirement already satisfied: sympy in ./hydra-jupyter/lib/python3.10/site-packages (from torch>=1.0.0->bert-score) (1.13.0)\n",
      "Requirement already satisfied: networkx in ./hydra-jupyter/lib/python3.10/site-packages (from torch>=1.0.0->bert-score) (3.3)\n",
      "Requirement already satisfied: jinja2 in ./hydra-jupyter/lib/python3.10/site-packages (from torch>=1.0.0->bert-score) (3.1.4)\n",
      "Requirement already satisfied: nvidia-cuda-nvrtc-cu11==11.7.99 in ./hydra-jupyter/lib/python3.10/site-packages (from torch>=1.0.0->bert-score) (11.7.99)\n",
      "Requirement already satisfied: nvidia-cuda-runtime-cu11==11.7.99 in ./hydra-jupyter/lib/python3.10/site-packages (from torch>=1.0.0->bert-score) (11.7.99)\n",
      "Requirement already satisfied: nvidia-cuda-cupti-cu11==11.7.101 in ./hydra-jupyter/lib/python3.10/site-packages (from torch>=1.0.0->bert-score) (11.7.101)\n",
      "Requirement already satisfied: nvidia-cudnn-cu11==8.5.0.96 in ./hydra-jupyter/lib/python3.10/site-packages (from torch>=1.0.0->bert-score) (8.5.0.96)\n",
      "Requirement already satisfied: nvidia-cublas-cu11==11.10.3.66 in ./hydra-jupyter/lib/python3.10/site-packages (from torch>=1.0.0->bert-score) (11.10.3.66)\n",
      "Requirement already satisfied: nvidia-cufft-cu11==10.9.0.58 in ./hydra-jupyter/lib/python3.10/site-packages (from torch>=1.0.0->bert-score) (10.9.0.58)\n",
      "Requirement already satisfied: nvidia-curand-cu11==10.2.10.91 in ./hydra-jupyter/lib/python3.10/site-packages (from torch>=1.0.0->bert-score) (10.2.10.91)\n",
      "Requirement already satisfied: nvidia-cusolver-cu11==11.4.0.1 in ./hydra-jupyter/lib/python3.10/site-packages (from torch>=1.0.0->bert-score) (11.4.0.1)\n",
      "Requirement already satisfied: nvidia-cusparse-cu11==11.7.4.91 in ./hydra-jupyter/lib/python3.10/site-packages (from torch>=1.0.0->bert-score) (11.7.4.91)\n",
      "Requirement already satisfied: nvidia-nccl-cu11==2.14.3 in ./hydra-jupyter/lib/python3.10/site-packages (from torch>=1.0.0->bert-score) (2.14.3)\n",
      "Requirement already satisfied: nvidia-nvtx-cu11==11.7.91 in ./hydra-jupyter/lib/python3.10/site-packages (from torch>=1.0.0->bert-score) (11.7.91)\n",
      "Requirement already satisfied: triton==2.0.0 in ./hydra-jupyter/lib/python3.10/site-packages (from torch>=1.0.0->bert-score) (2.0.0)\n",
      "Requirement already satisfied: setuptools in ./hydra-jupyter/lib/python3.10/site-packages (from nvidia-cublas-cu11==11.10.3.66->torch>=1.0.0->bert-score) (59.6.0)\n",
      "Requirement already satisfied: wheel in /usr/lib/python3/dist-packages (from nvidia-cublas-cu11==11.10.3.66->torch>=1.0.0->bert-score) (0.37.1)\n",
      "Requirement already satisfied: cmake in ./hydra-jupyter/lib/python3.10/site-packages (from triton==2.0.0->torch>=1.0.0->bert-score) (3.30.0)\n",
      "Requirement already satisfied: lit in ./hydra-jupyter/lib/python3.10/site-packages (from triton==2.0.0->torch>=1.0.0->bert-score) (18.1.8)\n",
      "Requirement already satisfied: huggingface-hub<1.0,>=0.14.1 in ./hydra-jupyter/lib/python3.10/site-packages (from transformers>=3.0.0->bert-score) (0.23.4)\n",
      "Requirement already satisfied: pyyaml>=5.1 in ./hydra-jupyter/lib/python3.10/site-packages (from transformers>=3.0.0->bert-score) (6.0.1)\n",
      "Requirement already satisfied: regex!=2019.12.17 in ./hydra-jupyter/lib/python3.10/site-packages (from transformers>=3.0.0->bert-score) (2024.5.15)\n",
      "Requirement already satisfied: tokenizers!=0.11.3,<0.14,>=0.11.1 in ./hydra-jupyter/lib/python3.10/site-packages (from transformers>=3.0.0->bert-score) (0.13.3)\n",
      "Requirement already satisfied: safetensors>=0.3.1 in ./hydra-jupyter/lib/python3.10/site-packages (from transformers>=3.0.0->bert-score) (0.4.3)\n",
      "Requirement already satisfied: contourpy>=1.0.1 in ./hydra-jupyter/lib/python3.10/site-packages (from matplotlib->bert-score) (1.2.1)\n",
      "Requirement already satisfied: cycler>=0.10 in ./hydra-jupyter/lib/python3.10/site-packages (from matplotlib->bert-score) (0.12.1)\n",
      "Requirement already satisfied: fonttools>=4.22.0 in ./hydra-jupyter/lib/python3.10/site-packages (from matplotlib->bert-score) (4.53.1)\n",
      "Requirement already satisfied: kiwisolver>=1.3.1 in ./hydra-jupyter/lib/python3.10/site-packages (from matplotlib->bert-score) (1.4.5)\n",
      "Requirement already satisfied: pillow>=8 in ./hydra-jupyter/lib/python3.10/site-packages (from matplotlib->bert-score) (10.4.0)\n",
      "Requirement already satisfied: pyparsing>=2.3.1 in /usr/lib/python3/dist-packages (from matplotlib->bert-score) (2.4.7)\n",
      "Requirement already satisfied: charset-normalizer<4,>=2 in ./hydra-jupyter/lib/python3.10/site-packages (from requests->bert-score) (3.3.2)\n",
      "Requirement already satisfied: idna<4,>=2.5 in ./hydra-jupyter/lib/python3.10/site-packages (from requests->bert-score) (3.7)\n",
      "Requirement already satisfied: urllib3<3,>=1.21.1 in ./hydra-jupyter/lib/python3.10/site-packages (from requests->bert-score) (2.2.2)\n",
      "Requirement already satisfied: certifi>=2017.4.17 in ./hydra-jupyter/lib/python3.10/site-packages (from requests->bert-score) (2024.7.4)\n",
      "Requirement already satisfied: fsspec>=2023.5.0 in ./hydra-jupyter/lib/python3.10/site-packages (from huggingface-hub<1.0,>=0.14.1->transformers>=3.0.0->bert-score) (2024.5.0)\n",
      "Requirement already satisfied: six>=1.5 in /usr/lib/python3/dist-packages (from python-dateutil>=2.8.2->pandas>=1.0.1->bert-score) (1.16.0)\n",
      "Requirement already satisfied: MarkupSafe>=2.0 in ./hydra-jupyter/lib/python3.10/site-packages (from jinja2->torch>=1.0.0->bert-score) (2.1.5)\n",
      "Requirement already satisfied: mpmath<1.4,>=1.1.0 in ./hydra-jupyter/lib/python3.10/site-packages (from sympy->torch>=1.0.0->bert-score) (1.3.0)\n",
      "\u001b[33mWARNING: Ignoring invalid distribution -orch (/cluster/home/bwc/mm2404/hydra-jupyter/lib/python3.10/site-packages)\u001b[0m\u001b[33m\n",
      "\u001b[0m\u001b[33mWARNING: Ignoring invalid distribution -orch (/cluster/home/bwc/mm2404/hydra-jupyter/lib/python3.10/site-packages)\u001b[0m\u001b[33m\n",
      "\u001b[0m"
     ]
    }
   ],
   "source": [
    "!pip install bert-score"
   ]
  },
  {
   "cell_type": "code",
   "execution_count": 45,
   "id": "544b79a6-e9ec-4447-b16a-8929faf2bd23",
   "metadata": {},
   "outputs": [],
   "source": [
    "# Function to calculate the average of a list\n",
    "def calculate_average(values):\n",
    "    return sum(values) / len(values)\n",
    "\n",
    "def format_bert(generated, reference):\n",
    "    generated_newlines = [\"\\n\".join(sent_tokenize(s.strip())) for s in generated]\n",
    "    reference_newlines = [\"\\n\".join(sent_tokenize(s.strip())) for s in reference]\n",
    "    \n",
    "    bert_score = bertscore.compute(\n",
    "        predictions=generated_newlines, \n",
    "        references=reference_newlines, \n",
    "        model_type=\"distilbert-base-uncased\"\n",
    "    )\n",
    "    average_precision = calculate_average(bert_score['precision'])\n",
    "    average_recall = calculate_average(bert_score['recall'])\n",
    "    average_f1 = calculate_average(bert_score['f1'])\n",
    "\n",
    "    return f\"\"\"Average Precision: {average_precision:.4f}, Average Recall: {average_recall:.4f}, Average F1 Score: {average_f1:.4f}\"\"\""
   ]
  },
  {
   "cell_type": "code",
   "execution_count": 46,
   "id": "7f5f9a05-8424-4f96-8731-a95637ca5203",
   "metadata": {},
   "outputs": [
    {
     "data": {
      "text/plain": [
       "'Average Precision: 0.8352, Average Recall: 0.8323, Average F1 Score: 0.8334'"
      ]
     },
     "execution_count": 46,
     "metadata": {},
     "output_type": "execute_result"
    }
   ],
   "source": [
    "format_bert(trained_model_summaries, reference_summaries)"
   ]
  },
  {
   "cell_type": "code",
   "execution_count": 47,
   "id": "e16a01a1-a247-4a5d-ad79-6b33a1d4a228",
   "metadata": {},
   "outputs": [
    {
     "data": {
      "text/plain": [
       "'Average Precision: 0.7368, Average Recall: 0.7489, Average F1 Score: 0.7403'"
      ]
     },
     "execution_count": 47,
     "metadata": {},
     "output_type": "execute_result"
    }
   ],
   "source": [
    "format_bert(base_model_summaries, reference_summaries)"
   ]
  }
 ],
 "metadata": {
  "kaggle": {
   "accelerator": "nvidiaTeslaT4",
   "dataSources": [],
   "dockerImageVersionId": 30747,
   "isGpuEnabled": true,
   "isInternetEnabled": true,
   "language": "python",
   "sourceType": "notebook"
  },
  "kernelspec": {
   "display_name": "Python 3 (ipykernel)",
   "language": "python",
   "name": "python3"
  },
  "language_info": {
   "codemirror_mode": {
    "name": "ipython",
    "version": 3
   },
   "file_extension": ".py",
   "mimetype": "text/x-python",
   "name": "python",
   "nbconvert_exporter": "python",
   "pygments_lexer": "ipython3",
   "version": "3.10.12"
  }
 },
 "nbformat": 4,
 "nbformat_minor": 5
}
