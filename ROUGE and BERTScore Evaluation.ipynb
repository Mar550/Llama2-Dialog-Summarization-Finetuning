{
 "cells": [
  {
   "cell_type": "markdown",
   "id": "0e231c67",
   "metadata": {},
   "source": [
    "<h2> Evaluation of Dialog Summarization </h2>"
   ]
  },
  {
   "cell_type": "markdown",
   "id": "1bf35d06",
   "metadata": {},
   "source": [
    "**LOADING DATASET**"
   ]
  },
  {
   "cell_type": "markdown",
   "id": "2e26918f",
   "metadata": {},
   "source": [
    "**1. We install the necessary packages and libraries we will need for ou evaluation**"
   ]
  },
  {
   "cell_type": "code",
   "execution_count": 1,
   "id": "0b2e962c",
   "metadata": {},
   "outputs": [
    {
     "name": "stdout",
     "output_type": "stream",
     "text": [
      "\u001b[33mWARNING: Ignoring invalid distribution -orch (/cluster/home/bwc/mm2404/hydra-jupyter/lib/python3.10/site-packages)\u001b[0m\u001b[33m\n",
      "\u001b[0mRequirement already satisfied: evaluate in ./hydra-jupyter/lib/python3.10/site-packages (0.4.2)\n",
      "Requirement already satisfied: datasets>=2.0.0 in ./hydra-jupyter/lib/python3.10/site-packages (from evaluate) (2.20.0)\n",
      "Requirement already satisfied: numpy>=1.17 in ./hydra-jupyter/lib/python3.10/site-packages (from evaluate) (1.26.4)\n",
      "Requirement already satisfied: dill in ./hydra-jupyter/lib/python3.10/site-packages (from evaluate) (0.3.7)\n",
      "Requirement already satisfied: pandas in ./hydra-jupyter/lib/python3.10/site-packages (from evaluate) (2.2.2)\n",
      "Requirement already satisfied: requests>=2.19.0 in ./hydra-jupyter/lib/python3.10/site-packages (from evaluate) (2.32.3)\n",
      "Requirement already satisfied: tqdm>=4.62.1 in ./hydra-jupyter/lib/python3.10/site-packages (from evaluate) (4.66.4)\n",
      "Requirement already satisfied: xxhash in ./hydra-jupyter/lib/python3.10/site-packages (from evaluate) (3.4.1)\n",
      "Requirement already satisfied: multiprocess in ./hydra-jupyter/lib/python3.10/site-packages (from evaluate) (0.70.15)\n",
      "Requirement already satisfied: fsspec>=2021.05.0 in ./hydra-jupyter/lib/python3.10/site-packages (from fsspec[http]>=2021.05.0->evaluate) (2024.5.0)\n",
      "Requirement already satisfied: huggingface-hub>=0.7.0 in ./hydra-jupyter/lib/python3.10/site-packages (from evaluate) (0.23.4)\n",
      "Requirement already satisfied: packaging in ./hydra-jupyter/lib/python3.10/site-packages (from evaluate) (23.2)\n",
      "Requirement already satisfied: filelock in /usr/lib/python3/dist-packages (from datasets>=2.0.0->evaluate) (3.6.0)\n",
      "Requirement already satisfied: pyarrow>=15.0.0 in ./hydra-jupyter/lib/python3.10/site-packages (from datasets>=2.0.0->evaluate) (16.1.0)\n",
      "Requirement already satisfied: pyarrow-hotfix in ./hydra-jupyter/lib/python3.10/site-packages (from datasets>=2.0.0->evaluate) (0.6)\n",
      "Requirement already satisfied: aiohttp in ./hydra-jupyter/lib/python3.10/site-packages (from datasets>=2.0.0->evaluate) (3.9.5)\n",
      "Requirement already satisfied: pyyaml>=5.1 in ./hydra-jupyter/lib/python3.10/site-packages (from datasets>=2.0.0->evaluate) (6.0.1)\n",
      "Requirement already satisfied: typing-extensions>=3.7.4.3 in ./hydra-jupyter/lib/python3.10/site-packages (from huggingface-hub>=0.7.0->evaluate) (4.12.2)\n",
      "Requirement already satisfied: charset-normalizer<4,>=2 in ./hydra-jupyter/lib/python3.10/site-packages (from requests>=2.19.0->evaluate) (3.3.2)\n",
      "Requirement already satisfied: idna<4,>=2.5 in ./hydra-jupyter/lib/python3.10/site-packages (from requests>=2.19.0->evaluate) (3.7)\n",
      "Requirement already satisfied: urllib3<3,>=1.21.1 in ./hydra-jupyter/lib/python3.10/site-packages (from requests>=2.19.0->evaluate) (2.2.2)\n",
      "Requirement already satisfied: certifi>=2017.4.17 in ./hydra-jupyter/lib/python3.10/site-packages (from requests>=2.19.0->evaluate) (2024.7.4)\n",
      "Requirement already satisfied: python-dateutil>=2.8.2 in ./hydra-jupyter/lib/python3.10/site-packages (from pandas->evaluate) (2.9.0.post0)\n",
      "Requirement already satisfied: pytz>=2020.1 in /usr/lib/python3/dist-packages (from pandas->evaluate) (2022.1)\n",
      "Requirement already satisfied: tzdata>=2022.7 in ./hydra-jupyter/lib/python3.10/site-packages (from pandas->evaluate) (2024.1)\n",
      "Requirement already satisfied: aiosignal>=1.1.2 in ./hydra-jupyter/lib/python3.10/site-packages (from aiohttp->datasets>=2.0.0->evaluate) (1.3.1)\n",
      "Requirement already satisfied: attrs>=17.3.0 in ./hydra-jupyter/lib/python3.10/site-packages (from aiohttp->datasets>=2.0.0->evaluate) (23.2.0)\n",
      "Requirement already satisfied: frozenlist>=1.1.1 in ./hydra-jupyter/lib/python3.10/site-packages (from aiohttp->datasets>=2.0.0->evaluate) (1.4.1)\n",
      "Requirement already satisfied: multidict<7.0,>=4.5 in ./hydra-jupyter/lib/python3.10/site-packages (from aiohttp->datasets>=2.0.0->evaluate) (6.0.5)\n",
      "Requirement already satisfied: yarl<2.0,>=1.0 in ./hydra-jupyter/lib/python3.10/site-packages (from aiohttp->datasets>=2.0.0->evaluate) (1.9.4)\n",
      "Requirement already satisfied: async-timeout<5.0,>=4.0 in ./hydra-jupyter/lib/python3.10/site-packages (from aiohttp->datasets>=2.0.0->evaluate) (4.0.3)\n",
      "Requirement already satisfied: six>=1.5 in /usr/lib/python3/dist-packages (from python-dateutil>=2.8.2->pandas->evaluate) (1.16.0)\n",
      "\u001b[33mWARNING: Ignoring invalid distribution -orch (/cluster/home/bwc/mm2404/hydra-jupyter/lib/python3.10/site-packages)\u001b[0m\u001b[33m\n",
      "\u001b[0m\u001b[33mWARNING: Ignoring invalid distribution -orch (/cluster/home/bwc/mm2404/hydra-jupyter/lib/python3.10/site-packages)\u001b[0m\u001b[33m\n",
      "\u001b[0m\u001b[33mWARNING: Ignoring invalid distribution -orch (/cluster/home/bwc/mm2404/hydra-jupyter/lib/python3.10/site-packages)\u001b[0m\u001b[33m\n",
      "\u001b[0mRequirement already satisfied: datasets in ./hydra-jupyter/lib/python3.10/site-packages (2.20.0)\n",
      "Requirement already satisfied: filelock in /usr/lib/python3/dist-packages (from datasets) (3.6.0)\n",
      "Requirement already satisfied: numpy>=1.17 in ./hydra-jupyter/lib/python3.10/site-packages (from datasets) (1.26.4)\n",
      "Requirement already satisfied: pyarrow>=15.0.0 in ./hydra-jupyter/lib/python3.10/site-packages (from datasets) (16.1.0)\n",
      "Requirement already satisfied: pyarrow-hotfix in ./hydra-jupyter/lib/python3.10/site-packages (from datasets) (0.6)\n",
      "Requirement already satisfied: dill<0.3.9,>=0.3.0 in ./hydra-jupyter/lib/python3.10/site-packages (from datasets) (0.3.7)\n",
      "Requirement already satisfied: pandas in ./hydra-jupyter/lib/python3.10/site-packages (from datasets) (2.2.2)\n",
      "Requirement already satisfied: requests>=2.32.2 in ./hydra-jupyter/lib/python3.10/site-packages (from datasets) (2.32.3)\n",
      "Requirement already satisfied: tqdm>=4.66.3 in ./hydra-jupyter/lib/python3.10/site-packages (from datasets) (4.66.4)\n",
      "Requirement already satisfied: xxhash in ./hydra-jupyter/lib/python3.10/site-packages (from datasets) (3.4.1)\n",
      "Requirement already satisfied: multiprocess in ./hydra-jupyter/lib/python3.10/site-packages (from datasets) (0.70.15)\n",
      "Requirement already satisfied: fsspec<=2024.5.0,>=2023.1.0 in ./hydra-jupyter/lib/python3.10/site-packages (from fsspec[http]<=2024.5.0,>=2023.1.0->datasets) (2024.5.0)\n",
      "Requirement already satisfied: aiohttp in ./hydra-jupyter/lib/python3.10/site-packages (from datasets) (3.9.5)\n",
      "Requirement already satisfied: huggingface-hub>=0.21.2 in ./hydra-jupyter/lib/python3.10/site-packages (from datasets) (0.23.4)\n",
      "Requirement already satisfied: packaging in ./hydra-jupyter/lib/python3.10/site-packages (from datasets) (23.2)\n",
      "Requirement already satisfied: pyyaml>=5.1 in ./hydra-jupyter/lib/python3.10/site-packages (from datasets) (6.0.1)\n",
      "Requirement already satisfied: aiosignal>=1.1.2 in ./hydra-jupyter/lib/python3.10/site-packages (from aiohttp->datasets) (1.3.1)\n",
      "Requirement already satisfied: attrs>=17.3.0 in ./hydra-jupyter/lib/python3.10/site-packages (from aiohttp->datasets) (23.2.0)\n",
      "Requirement already satisfied: frozenlist>=1.1.1 in ./hydra-jupyter/lib/python3.10/site-packages (from aiohttp->datasets) (1.4.1)\n",
      "Requirement already satisfied: multidict<7.0,>=4.5 in ./hydra-jupyter/lib/python3.10/site-packages (from aiohttp->datasets) (6.0.5)\n",
      "Requirement already satisfied: yarl<2.0,>=1.0 in ./hydra-jupyter/lib/python3.10/site-packages (from aiohttp->datasets) (1.9.4)\n",
      "Requirement already satisfied: async-timeout<5.0,>=4.0 in ./hydra-jupyter/lib/python3.10/site-packages (from aiohttp->datasets) (4.0.3)\n",
      "Requirement already satisfied: typing-extensions>=3.7.4.3 in ./hydra-jupyter/lib/python3.10/site-packages (from huggingface-hub>=0.21.2->datasets) (4.12.2)\n",
      "Requirement already satisfied: charset-normalizer<4,>=2 in ./hydra-jupyter/lib/python3.10/site-packages (from requests>=2.32.2->datasets) (3.3.2)\n",
      "Requirement already satisfied: idna<4,>=2.5 in ./hydra-jupyter/lib/python3.10/site-packages (from requests>=2.32.2->datasets) (3.7)\n",
      "Requirement already satisfied: urllib3<3,>=1.21.1 in ./hydra-jupyter/lib/python3.10/site-packages (from requests>=2.32.2->datasets) (2.2.2)\n",
      "Requirement already satisfied: certifi>=2017.4.17 in ./hydra-jupyter/lib/python3.10/site-packages (from requests>=2.32.2->datasets) (2024.7.4)\n",
      "Requirement already satisfied: python-dateutil>=2.8.2 in ./hydra-jupyter/lib/python3.10/site-packages (from pandas->datasets) (2.9.0.post0)\n",
      "Requirement already satisfied: pytz>=2020.1 in /usr/lib/python3/dist-packages (from pandas->datasets) (2022.1)\n",
      "Requirement already satisfied: tzdata>=2022.7 in ./hydra-jupyter/lib/python3.10/site-packages (from pandas->datasets) (2024.1)\n",
      "Requirement already satisfied: six>=1.5 in /usr/lib/python3/dist-packages (from python-dateutil>=2.8.2->pandas->datasets) (1.16.0)\n",
      "\u001b[33mWARNING: Ignoring invalid distribution -orch (/cluster/home/bwc/mm2404/hydra-jupyter/lib/python3.10/site-packages)\u001b[0m\u001b[33m\n",
      "\u001b[0m\u001b[33mWARNING: Ignoring invalid distribution -orch (/cluster/home/bwc/mm2404/hydra-jupyter/lib/python3.10/site-packages)\u001b[0m\u001b[33m\n",
      "\u001b[0m\u001b[33mWARNING: Ignoring invalid distribution -orch (/cluster/home/bwc/mm2404/hydra-jupyter/lib/python3.10/site-packages)\u001b[0m\u001b[33m\n",
      "\u001b[0mRequirement already satisfied: rouge_score in ./hydra-jupyter/lib/python3.10/site-packages (0.1.2)\n",
      "Requirement already satisfied: absl-py in ./hydra-jupyter/lib/python3.10/site-packages (from rouge_score) (2.1.0)\n",
      "Requirement already satisfied: nltk in ./hydra-jupyter/lib/python3.10/site-packages (from rouge_score) (3.8.1)\n",
      "Requirement already satisfied: numpy in ./hydra-jupyter/lib/python3.10/site-packages (from rouge_score) (1.26.4)\n",
      "Requirement already satisfied: six>=1.14.0 in /usr/lib/python3/dist-packages (from rouge_score) (1.16.0)\n",
      "Requirement already satisfied: click in ./hydra-jupyter/lib/python3.10/site-packages (from nltk->rouge_score) (8.1.7)\n",
      "Requirement already satisfied: joblib in ./hydra-jupyter/lib/python3.10/site-packages (from nltk->rouge_score) (1.4.2)\n",
      "Requirement already satisfied: regex>=2021.8.3 in ./hydra-jupyter/lib/python3.10/site-packages (from nltk->rouge_score) (2024.5.15)\n",
      "Requirement already satisfied: tqdm in ./hydra-jupyter/lib/python3.10/site-packages (from nltk->rouge_score) (4.66.4)\n",
      "\u001b[33mWARNING: Ignoring invalid distribution -orch (/cluster/home/bwc/mm2404/hydra-jupyter/lib/python3.10/site-packages)\u001b[0m\u001b[33m\n",
      "\u001b[0m\u001b[33mWARNING: Ignoring invalid distribution -orch (/cluster/home/bwc/mm2404/hydra-jupyter/lib/python3.10/site-packages)\u001b[0m\u001b[33m\n",
      "\u001b[0m\u001b[33mWARNING: Ignoring invalid distribution -orch (/cluster/home/bwc/mm2404/hydra-jupyter/lib/python3.10/site-packages)\u001b[0m\u001b[33m\n",
      "\u001b[0mRequirement already satisfied: nltk in ./hydra-jupyter/lib/python3.10/site-packages (3.8.1)\n",
      "Collecting nltk\n",
      "  Using cached nltk-3.9.1-py3-none-any.whl.metadata (2.9 kB)\n",
      "Requirement already satisfied: click in ./hydra-jupyter/lib/python3.10/site-packages (from nltk) (8.1.7)\n",
      "Requirement already satisfied: joblib in ./hydra-jupyter/lib/python3.10/site-packages (from nltk) (1.4.2)\n",
      "Requirement already satisfied: regex>=2021.8.3 in ./hydra-jupyter/lib/python3.10/site-packages (from nltk) (2024.5.15)\n",
      "Requirement already satisfied: tqdm in ./hydra-jupyter/lib/python3.10/site-packages (from nltk) (4.66.4)\n",
      "\u001b[31mERROR: Will not install to the user site because it will lack sys.path precedence to nltk in /cluster/home/bwc/mm2404/hydra-jupyter/lib/python3.10/site-packages\u001b[0m\u001b[31m\n",
      "\u001b[0m\u001b[33mWARNING: Ignoring invalid distribution -orch (/cluster/home/bwc/mm2404/hydra-jupyter/lib/python3.10/site-packages)\u001b[0m\u001b[33m\n",
      "\u001b[0mRequirement already satisfied: transformers in ./hydra-jupyter/lib/python3.10/site-packages (4.31.0)\n",
      "Requirement already satisfied: filelock in /usr/lib/python3/dist-packages (from transformers) (3.6.0)\n",
      "Requirement already satisfied: huggingface-hub<1.0,>=0.14.1 in ./hydra-jupyter/lib/python3.10/site-packages (from transformers) (0.23.4)\n",
      "Requirement already satisfied: numpy>=1.17 in ./hydra-jupyter/lib/python3.10/site-packages (from transformers) (1.26.4)\n",
      "Requirement already satisfied: packaging>=20.0 in ./hydra-jupyter/lib/python3.10/site-packages (from transformers) (23.2)\n",
      "Requirement already satisfied: pyyaml>=5.1 in ./hydra-jupyter/lib/python3.10/site-packages (from transformers) (6.0.1)\n",
      "Requirement already satisfied: regex!=2019.12.17 in ./hydra-jupyter/lib/python3.10/site-packages (from transformers) (2024.5.15)\n",
      "Requirement already satisfied: requests in ./hydra-jupyter/lib/python3.10/site-packages (from transformers) (2.32.3)\n",
      "Requirement already satisfied: tokenizers!=0.11.3,<0.14,>=0.11.1 in ./hydra-jupyter/lib/python3.10/site-packages (from transformers) (0.13.3)\n",
      "Requirement already satisfied: safetensors>=0.3.1 in ./hydra-jupyter/lib/python3.10/site-packages (from transformers) (0.4.3)\n",
      "Requirement already satisfied: tqdm>=4.27 in ./hydra-jupyter/lib/python3.10/site-packages (from transformers) (4.66.4)\n",
      "Requirement already satisfied: fsspec>=2023.5.0 in ./hydra-jupyter/lib/python3.10/site-packages (from huggingface-hub<1.0,>=0.14.1->transformers) (2024.5.0)\n",
      "Requirement already satisfied: typing-extensions>=3.7.4.3 in ./hydra-jupyter/lib/python3.10/site-packages (from huggingface-hub<1.0,>=0.14.1->transformers) (4.12.2)\n",
      "Requirement already satisfied: charset-normalizer<4,>=2 in ./hydra-jupyter/lib/python3.10/site-packages (from requests->transformers) (3.3.2)\n",
      "Requirement already satisfied: idna<4,>=2.5 in ./hydra-jupyter/lib/python3.10/site-packages (from requests->transformers) (3.7)\n",
      "Requirement already satisfied: urllib3<3,>=1.21.1 in ./hydra-jupyter/lib/python3.10/site-packages (from requests->transformers) (2.2.2)\n",
      "Requirement already satisfied: certifi>=2017.4.17 in ./hydra-jupyter/lib/python3.10/site-packages (from requests->transformers) (2024.7.4)\n",
      "\u001b[33mWARNING: Ignoring invalid distribution -orch (/cluster/home/bwc/mm2404/hydra-jupyter/lib/python3.10/site-packages)\u001b[0m\u001b[33m\n",
      "\u001b[0m\u001b[33mWARNING: Ignoring invalid distribution -orch (/cluster/home/bwc/mm2404/hydra-jupyter/lib/python3.10/site-packages)\u001b[0m\u001b[33m\n",
      "\u001b[0m\u001b[33mWARNING: Ignoring invalid distribution -orch (/cluster/home/bwc/mm2404/hydra-jupyter/lib/python3.10/site-packages)\u001b[0m\u001b[33m\n",
      "\u001b[0mRequirement already satisfied: bitsandbytes in ./hydra-jupyter/lib/python3.10/site-packages (0.43.3)\n",
      "Requirement already satisfied: torch in ./hydra-jupyter/lib/python3.10/site-packages (from bitsandbytes) (2.0.1)\n",
      "Requirement already satisfied: numpy in ./hydra-jupyter/lib/python3.10/site-packages (from bitsandbytes) (1.26.4)\n",
      "Requirement already satisfied: filelock in /usr/lib/python3/dist-packages (from torch->bitsandbytes) (3.6.0)\n",
      "Requirement already satisfied: typing-extensions in ./hydra-jupyter/lib/python3.10/site-packages (from torch->bitsandbytes) (4.12.2)\n",
      "Requirement already satisfied: sympy in ./hydra-jupyter/lib/python3.10/site-packages (from torch->bitsandbytes) (1.13.0)\n",
      "Requirement already satisfied: networkx in ./hydra-jupyter/lib/python3.10/site-packages (from torch->bitsandbytes) (3.3)\n",
      "Requirement already satisfied: jinja2 in ./hydra-jupyter/lib/python3.10/site-packages (from torch->bitsandbytes) (3.1.4)\n",
      "Requirement already satisfied: nvidia-cuda-nvrtc-cu11==11.7.99 in ./hydra-jupyter/lib/python3.10/site-packages (from torch->bitsandbytes) (11.7.99)\n",
      "Requirement already satisfied: nvidia-cuda-runtime-cu11==11.7.99 in ./hydra-jupyter/lib/python3.10/site-packages (from torch->bitsandbytes) (11.7.99)\n",
      "Requirement already satisfied: nvidia-cuda-cupti-cu11==11.7.101 in ./hydra-jupyter/lib/python3.10/site-packages (from torch->bitsandbytes) (11.7.101)\n",
      "Requirement already satisfied: nvidia-cudnn-cu11==8.5.0.96 in ./hydra-jupyter/lib/python3.10/site-packages (from torch->bitsandbytes) (8.5.0.96)\n",
      "Requirement already satisfied: nvidia-cublas-cu11==11.10.3.66 in ./hydra-jupyter/lib/python3.10/site-packages (from torch->bitsandbytes) (11.10.3.66)\n",
      "Requirement already satisfied: nvidia-cufft-cu11==10.9.0.58 in ./hydra-jupyter/lib/python3.10/site-packages (from torch->bitsandbytes) (10.9.0.58)\n",
      "Requirement already satisfied: nvidia-curand-cu11==10.2.10.91 in ./hydra-jupyter/lib/python3.10/site-packages (from torch->bitsandbytes) (10.2.10.91)\n",
      "Requirement already satisfied: nvidia-cusolver-cu11==11.4.0.1 in ./hydra-jupyter/lib/python3.10/site-packages (from torch->bitsandbytes) (11.4.0.1)\n",
      "Requirement already satisfied: nvidia-cusparse-cu11==11.7.4.91 in ./hydra-jupyter/lib/python3.10/site-packages (from torch->bitsandbytes) (11.7.4.91)\n",
      "Requirement already satisfied: nvidia-nccl-cu11==2.14.3 in ./hydra-jupyter/lib/python3.10/site-packages (from torch->bitsandbytes) (2.14.3)\n",
      "Requirement already satisfied: nvidia-nvtx-cu11==11.7.91 in ./hydra-jupyter/lib/python3.10/site-packages (from torch->bitsandbytes) (11.7.91)\n",
      "Requirement already satisfied: triton==2.0.0 in ./hydra-jupyter/lib/python3.10/site-packages (from torch->bitsandbytes) (2.0.0)\n",
      "Requirement already satisfied: setuptools in ./hydra-jupyter/lib/python3.10/site-packages (from nvidia-cublas-cu11==11.10.3.66->torch->bitsandbytes) (59.6.0)\n",
      "Requirement already satisfied: wheel in /usr/lib/python3/dist-packages (from nvidia-cublas-cu11==11.10.3.66->torch->bitsandbytes) (0.37.1)\n",
      "Requirement already satisfied: cmake in ./hydra-jupyter/lib/python3.10/site-packages (from triton==2.0.0->torch->bitsandbytes) (3.30.0)\n",
      "Requirement already satisfied: lit in ./hydra-jupyter/lib/python3.10/site-packages (from triton==2.0.0->torch->bitsandbytes) (18.1.8)\n",
      "Requirement already satisfied: MarkupSafe>=2.0 in ./hydra-jupyter/lib/python3.10/site-packages (from jinja2->torch->bitsandbytes) (2.1.5)\n",
      "Requirement already satisfied: mpmath<1.4,>=1.1.0 in ./hydra-jupyter/lib/python3.10/site-packages (from sympy->torch->bitsandbytes) (1.3.0)\n",
      "\u001b[33mWARNING: Ignoring invalid distribution -orch (/cluster/home/bwc/mm2404/hydra-jupyter/lib/python3.10/site-packages)\u001b[0m\u001b[33m\n",
      "\u001b[0m\u001b[33mWARNING: Ignoring invalid distribution -orch (/cluster/home/bwc/mm2404/hydra-jupyter/lib/python3.10/site-packages)\u001b[0m\u001b[33m\n",
      "\u001b[0m"
     ]
    }
   ],
   "source": [
    "!pip install evaluate\n",
    "!pip install datasets\n",
    "!pip install rouge_score\n",
    "!pip install --user -U nltk\n",
    "!pip install transformers\n",
    "!pip install -U bitsandbytes"
   ]
  },
  {
   "cell_type": "markdown",
   "id": "906e776e",
   "metadata": {},
   "source": [
    "**2. We load the dataset we will use for the evaluation**"
   ]
  },
  {
   "cell_type": "code",
   "execution_count": 2,
   "id": "cbd31477",
   "metadata": {},
   "outputs": [
    {
     "data": {
      "text/plain": [
       "Dataset({\n",
       "    features: ['dialog', 'summary'],\n",
       "    num_rows: 110\n",
       "})"
      ]
     },
     "execution_count": 2,
     "metadata": {},
     "output_type": "execute_result"
    }
   ],
   "source": [
    "from datasets import load_dataset\n",
    "\n",
    "dataset = load_dataset(\"Marouane50/Dialog-Summarization-Dataset\", split=\"testing\")\n",
    "dataset"
   ]
  },
  {
   "cell_type": "markdown",
   "id": "c391c540",
   "metadata": {},
   "source": [
    "**3. From the testing set of the dataset, we select a 10 random samples of dialogs and summaries pairs that we will use as reference values for the evaluation.**"
   ]
  },
  {
   "cell_type": "code",
   "execution_count": 3,
   "id": "2b5c9e15",
   "metadata": {},
   "outputs": [],
   "source": [
    "import random\n",
    "reference_summaries=[]\n",
    "reference_dialogs = []\n",
    "\n",
    "def get_random_summaries(dataset):\n",
    "    for i in range(0,109):\n",
    "        index = random.randint(0,109)\n",
    "        dataset[\"summary\"][index]\n",
    "        reference_summaries.append(dataset[\"summary\"][index])  # Append the summary to the reference summaries list\n",
    "        reference_dialogs.append(dataset[\"dialog\"][index])  # Append the dialog to the reference dialogs list\n",
    "\n",
    "get_random_summaries(dataset)"
   ]
  },
  {
   "cell_type": "code",
   "execution_count": 4,
   "id": "d750e01a",
   "metadata": {},
   "outputs": [
    {
     "name": "stdout",
     "output_type": "stream",
     "text": [
      "Customer is complaining about that not to allowing to sit in the middle seat. Agents says that they are able to sit in middle seat and moving forward it will be a better experience for seating arrangements the next time.\n",
      "user: it would have been really nice when I booked my ticket to get a heads up that my purchase ONLY allowed a middle seat. That's what they're telling me here at the gate in Atlanta, anyway... 🤷🏻‍♀️ I'm a traveler who reads the fine print, so this is disappointing\n",
      "agent: Hi Hadas, none of our tickets restrict you to middle seats only. If available, you should be able to move to a window or aisle. I'm sorry for the incorrect information. Please DM your confirm # and I can see if there is another seat to move to. *TJW \n",
      "user: I'll pull up your reply if I ever run into a similar issue. There were empty seats on the flight, and I moved. It seems that your gate agent simply didn't feel like making the effort to find me another seat. DL 1105 from Atlanta today. Thanks for replying.  And for the record - she told me flat out that the ticket I purchased allowed for middle seats only.\n",
      "agent: I am very sorry that you were told the wrong information. I'm glad you were able to move but I apologize that the agent did not assist you with this. I will forward this to Atlanta Leadership so they are aware of the incident. We are always here on Twitter to help, too. *TJW\n",
      "user: Thank you!\n",
      "agent: You are welcome. Have a wonderful week. *TJW\n",
      "user: You too. Glad to hear the policy is not what I was told.\n",
      "agent: Moving forward, I hope it will be a better experience for you for your seating arrangements the next time, Hadas. We value your patronage with us. Best to you and your travels that are coming! *ADB\n",
      "\n"
     ]
    }
   ],
   "source": [
    "print(reference_summaries[52])\n",
    "print(reference_dialogs[52])"
   ]
  },
  {
   "cell_type": "markdown",
   "id": "79344238",
   "metadata": {},
   "source": [
    "**LOADING MODELS**"
   ]
  },
  {
   "cell_type": "markdown",
   "id": "1aeae078",
   "metadata": {},
   "source": [
    "1. We load the base model and the fine-tuned model from Hugging Face Hub"
   ]
  },
  {
   "cell_type": "code",
   "execution_count": 5,
   "id": "f073642c",
   "metadata": {},
   "outputs": [],
   "source": [
    "base_model_name = \"NousResearch/Llama-2-7b-chat-hf\"\n",
    "trained_model_name = \"Marouane50/Dialog-Summarization-Finetuning\""
   ]
  },
  {
   "cell_type": "markdown",
   "id": "9df98e17",
   "metadata": {},
   "source": [
    "**2. We set up a QLoRA configuration and use it to load the models using quantization (same code as in finetuning file)**"
   ]
  },
  {
   "cell_type": "code",
   "execution_count": 6,
   "id": "ed8a7b61",
   "metadata": {},
   "outputs": [],
   "source": [
    "import torch\n",
    "import os\n",
    "from transformers import BitsAndBytesConfig\n",
    "\n",
    "compute_dtype = getattr(torch, \"float16\")\n",
    "\n",
    "bnb_config = BitsAndBytesConfig(\n",
    "    load_in_4bit = True,\n",
    "    bnb_4bit_quant_type=\"nf4\",\n",
    "    bnb_4bit_compute_dtype= compute_dtype,\n",
    "    bnb_4bit_use_double_quant=True\n",
    ")"
   ]
  },
  {
   "cell_type": "markdown",
   "id": "8fdd3c6a",
   "metadata": {},
   "source": [
    "**3. We load the base model Llama2 7B chat and use it to run a text generation pipeline**"
   ]
  },
  {
   "cell_type": "code",
   "execution_count": 7,
   "id": "d63ec33c",
   "metadata": {},
   "outputs": [
    {
     "name": "stderr",
     "output_type": "stream",
     "text": [
      "/home/bwc/mm2404/hydra-jupyter/lib/python3.10/site-packages/huggingface_hub/file_download.py:1132: FutureWarning: `resume_download` is deprecated and will be removed in version 1.0.0. Downloads always resume when possible. If you want to force a new download, use `force_download=True`.\n",
      "  warnings.warn(\n",
      "2024-08-30 11:29:12.785996: I tensorflow/core/util/port.cc:153] oneDNN custom operations are on. You may see slightly different numerical results due to floating-point round-off errors from different computation orders. To turn them off, set the environment variable `TF_ENABLE_ONEDNN_OPTS=0`.\n",
      "2024-08-30 11:29:14.564230: E external/local_xla/xla/stream_executor/cuda/cuda_fft.cc:485] Unable to register cuFFT factory: Attempting to register factory for plugin cuFFT when one has already been registered\n",
      "2024-08-30 11:29:15.896100: E external/local_xla/xla/stream_executor/cuda/cuda_dnn.cc:8454] Unable to register cuDNN factory: Attempting to register factory for plugin cuDNN when one has already been registered\n",
      "2024-08-30 11:29:16.081460: E external/local_xla/xla/stream_executor/cuda/cuda_blas.cc:1452] Unable to register cuBLAS factory: Attempting to register factory for plugin cuBLAS when one has already been registered\n",
      "2024-08-30 11:29:16.999425: I tensorflow/core/platform/cpu_feature_guard.cc:210] This TensorFlow binary is optimized to use available CPU instructions in performance-critical operations.\n",
      "To enable the following instructions: AVX2 AVX512F AVX512_VNNI FMA, in other operations, rebuild TensorFlow with the appropriate compiler flags.\n"
     ]
    },
    {
     "data": {
      "application/vnd.jupyter.widget-view+json": {
       "model_id": "7d607f481fc64599ae0798e9245853df",
       "version_major": 2,
       "version_minor": 0
      },
      "text/plain": [
       "Loading checkpoint shards:   0%|          | 0/2 [00:00<?, ?it/s]"
      ]
     },
     "metadata": {},
     "output_type": "display_data"
    },
    {
     "name": "stderr",
     "output_type": "stream",
     "text": [
      "/home/bwc/mm2404/hydra-jupyter/lib/python3.10/site-packages/huggingface_hub/file_download.py:1132: FutureWarning: `resume_download` is deprecated and will be removed in version 1.0.0. Downloads always resume when possible. If you want to force a new download, use `force_download=True`.\n",
      "  warnings.warn(\n"
     ]
    }
   ],
   "source": [
    "from transformers import AutoModelForCausalLM, AutoTokenizer\n",
    "\n",
    "model = AutoModelForCausalLM.from_pretrained(\n",
    "    base_model_name,\n",
    "    quantization_config = bnb_config,\n",
    "    device_map = {\"\": 0},\n",
    ")\n",
    "\n",
    "# Llama Tokenizer configuration\n",
    "tokenizer = AutoTokenizer.from_pretrained(base_model_name, add_eos_token=True, use_fast=True)\n",
    "tokenizer.pad_token_id = 18610\n",
    "tokenizer.padding_side = \"right\"\n"
   ]
  },
  {
   "cell_type": "code",
   "execution_count": 8,
   "id": "6e3b9ba4",
   "metadata": {},
   "outputs": [
    {
     "name": "stderr",
     "output_type": "stream",
     "text": [
      "/home/bwc/mm2404/hydra-jupyter/lib/python3.10/site-packages/transformers/generation/utils.py:1270: UserWarning: You have modified the pretrained model configuration to control generation. This is a deprecated strategy to control generation and will be removed soon, in a future version. Please use a generation configuration file (see https://huggingface.co/docs/transformers/main_classes/text_generation )\n",
      "  warnings.warn(\n",
      "/home/bwc/mm2404/hydra-jupyter/lib/python3.10/site-packages/transformers/pipelines/base.py:1083: UserWarning: You seem to be using the pipelines sequentially on GPU. In order to maximize efficiency please use a dataset\n",
      "  warnings.warn(\n"
     ]
    },
    {
     "name": "stdout",
     "output_type": "stream",
     "text": [
      "<s>[INST] <<SYS>> The following text is a conversation between a human and an agent. Write a summary of the conversation in two sentence. <</SYS>> user: it would have been really nice when I booked my ticket to get a heads up that my purchase ONLY allowed a middle seat. That's what they're telling me here at the gate in Atlanta, anyway... 🤷🏻‍♀️ I'm a traveler who reads the fine print, so this is disappointing\n",
      "agent: Hi Hadas, none of our tickets restrict you to middle seats only. If available, you should be able to move to a window or aisle. I'm sorry for the incorrect information. Please DM your confirm # and I can see if there is another seat to move to. *TJW \n",
      "user: I'll pull up your reply if I ever run into a similar issue. There were empty seats on the flight, and I moved. It seems that your gate agent simply didn't feel like making the effort to find me another seat. DL 1105 from Atlanta today. Thanks for replying.  And for the record - she told me flat out that the ticket I purchased allowed for middle seats only.\n",
      "agent: I am very sorry that you were told the wrong information. I'm glad you were able to move but I apologize that the agent did not assist you with this. I will forward this to Atlanta Leadership so they are aware of the incident. We are always here on Twitter to help, too. *TJW\n",
      "user: Thank you!\n",
      "agent: You are welcome. Have a wonderful week. *TJW\n",
      "user: You too. Glad to hear the policy is not what I was told.\n",
      "agent: Moving forward, I hope it will be a better experience for you for your seating arrangements the next time, Hadas. We value your patronage with us. Best to you and your travels that are coming! *ADB\n",
      " [/INST]  Sure! Here is a summary of the conversation in two sentences:\n",
      "\n",
      "A human named Hadas booked a flight ticket but was told at the gate in Atlanta that their purchase only allowed a middle seat, which was not what they were told when they booked. The agent apologized for the mistake and offered to help find another seat, but Hadas was able to move to an empty seat on the flight.\n"
     ]
    }
   ],
   "source": [
    "from transformers import pipeline\n",
    "\n",
    "# In this case, we need to specify in the prompt that the summary should only contain two sentences, to match the length of the summaries in our dataset.\n",
    "system_prompt = \"The following text is a conversation between a human and an agent. Write a summary of the conversation in two sentence.\"\n",
    "\n",
    "pipe = pipeline(\n",
    "    task=\"text-generation\",\n",
    "    model=model, \n",
    "    tokenizer=tokenizer, \n",
    "    max_length=1000 \n",
    ")\n",
    "\n",
    "# We use the first dialog from the testing set as an input, to be able to compare the output with the testing set summary\n",
    "base_model_summaries = []\n",
    "for i in range(0, 109):\n",
    "    result = pipe(f\"<s>[INST] <<SYS>> {system_prompt} <</SYS>> {reference_dialogs[i]} [/INST]\")\n",
    "    base_model_summaries.append(result[0]['generated_text'])\n",
    "    \n",
    "print(base_model_summaries[52])"
   ]
  },
  {
   "cell_type": "code",
   "execution_count": 9,
   "id": "09bc1db9",
   "metadata": {},
   "outputs": [
    {
     "name": "stdout",
     "output_type": "stream",
     "text": [
      "<s>[INST] <<SYS>> The following text is a conversation between a human and an agent. Write a summary of the conversation in two sentence. <</SYS>> user: it would have been really nice when I booked my ticket to get a heads up that my purchase ONLY allowed a middle seat. That's what they're telling me here at the gate in Atlanta, anyway... 🤷🏻‍♀️ I'm a traveler who reads the fine print, so this is disappointing\n",
      "agent: Hi Hadas, none of our tickets restrict you to middle seats only. If available, you should be able to move to a window or aisle. I'm sorry for the incorrect information. Please DM your confirm # and I can see if there is another seat to move to. *TJW \n",
      "user: I'll pull up your reply if I ever run into a similar issue. There were empty seats on the flight, and I moved. It seems that your gate agent simply didn't feel like making the effort to find me another seat. DL 1105 from Atlanta today. Thanks for replying.  And for the record - she told me flat out that the ticket I purchased allowed for middle seats only.\n",
      "agent: I am very sorry that you were told the wrong information. I'm glad you were able to move but I apologize that the agent did not assist you with this. I will forward this to Atlanta Leadership so they are aware of the incident. We are always here on Twitter to help, too. *TJW\n",
      "user: Thank you!\n",
      "agent: You are welcome. Have a wonderful week. *TJW\n",
      "user: You too. Glad to hear the policy is not what I was told.\n",
      "agent: Moving forward, I hope it will be a better experience for you for your seating arrangements the next time, Hadas. We value your patronage with us. Best to you and your travels that are coming! *ADB\n",
      " [/INST]  Sure! Here is a summary of the conversation in two sentences:\n",
      "\n",
      "A human named Hadas booked a flight ticket but was told at the gate in Atlanta that their purchase only allowed a middle seat, which was not what they were told when they booked. The agent apologized for the mistake and offered to help find another seat, but Hadas was able to move to an empty seat on the flight.\n"
     ]
    }
   ],
   "source": [
    "print(base_model_summaries[52])"
   ]
  },
  {
   "cell_type": "markdown",
   "id": "0ab3d2ab",
   "metadata": {},
   "source": [
    "**3. Then we load the fine-tuned model and use it to run another text generation pipeline**"
   ]
  },
  {
   "cell_type": "code",
   "execution_count": 10,
   "id": "e5d3cb5d",
   "metadata": {},
   "outputs": [
    {
     "name": "stderr",
     "output_type": "stream",
     "text": [
      "/home/bwc/mm2404/hydra-jupyter/lib/python3.10/site-packages/huggingface_hub/file_download.py:1132: FutureWarning: `resume_download` is deprecated and will be removed in version 1.0.0. Downloads always resume when possible. If you want to force a new download, use `force_download=True`.\n",
      "  warnings.warn(\n"
     ]
    },
    {
     "data": {
      "application/vnd.jupyter.widget-view+json": {
       "model_id": "ea88bebc31154357937ea1411b35f53b",
       "version_major": 2,
       "version_minor": 0
      },
      "text/plain": [
       "Loading checkpoint shards:   0%|          | 0/2 [00:00<?, ?it/s]"
      ]
     },
     "metadata": {},
     "output_type": "display_data"
    }
   ],
   "source": [
    "# Trained Model configuration\n",
    "finetuned_model = AutoModelForCausalLM.from_pretrained(\n",
    "    trained_model_name,\n",
    "    quantization_config = bnb_config,\n",
    "    device_map = {\"\": 0},\n",
    ")\n",
    "\n",
    "# Llama Tokenizer configuration\n",
    "tokenizer = AutoTokenizer.from_pretrained(trained_model_name, add_eos_token=True, use_fast=True)\n",
    "tokenizer.pad_token_id = 18610\n",
    "tokenizer.padding_side = \"right\"\n"
   ]
  },
  {
   "cell_type": "code",
   "execution_count": 11,
   "id": "8351c87e",
   "metadata": {},
   "outputs": [
    {
     "data": {
      "text/plain": [
       "\"<s>[INST] <<SYS>> The following text is a conversation between a human and an AI agent. Write a summary of the conversation. <</SYS>> user: it would have been really nice when I booked my ticket to get a heads up that my purchase ONLY allowed a middle seat. That's what they're telling me here at the gate in Atlanta, anyway... 🤷🏻\\u200d♀️ I'm a traveler who reads the fine print, so this is disappointing\\nagent: Hi Hadas, none of our tickets restrict you to middle seats only. If available, you should be able to move to a window or aisle. I'm sorry for the incorrect information. Please DM your confirm # and I can see if there is another seat to move to. *TJW \\nuser: I'll pull up your reply if I ever run into a similar issue. There were empty seats on the flight, and I moved. It seems that your gate agent simply didn't feel like making the effort to find me another seat. DL 1105 from Atlanta today. Thanks for replying.  And for the record - she told me flat out that the ticket I purchased allowed for middle seats only.\\nagent: I am very sorry that you were told the wrong information. I'm glad you were able to move but I apologize that the agent did not assist you with this. I will forward this to Atlanta Leadership so they are aware of the incident. We are always here on Twitter to help, too. *TJW\\nuser: Thank you!\\nagent: You are welcome. Have a wonderful week. *TJW\\nuser: You too. Glad to hear the policy is not what I was told.\\nagent: Moving forward, I hope it will be a better experience for you for your seating arrangements the next time, Hadas. We value your patronage with us. Best to you and your travels that are coming! *ADB\\n [/INST] Customer is complaining that he was told that the ticket he purchased allowed for middle seats only. Agent updated that none of their tickets restrict them to middle seats only and if available they should be able to move to a window or aisle.\""
      ]
     },
     "execution_count": 11,
     "metadata": {},
     "output_type": "execute_result"
    }
   ],
   "source": [
    "from transformers import pipeline\n",
    "\n",
    "system_prompt = \"The following text is a conversation between a human and an AI agent. Write a summary of the conversation.\"\n",
    "\n",
    "pipe = pipeline(\n",
    "    task=\"text-generation\",\n",
    "    model=finetuned_model, \n",
    "    tokenizer=tokenizer, \n",
    "    max_length=1000 \n",
    ")\n",
    "\n",
    "# We use the first dialog from the testing set as an input, to be able to compare the output with the testing set summary\n",
    "trained_model_summaries = []\n",
    "for i in range(0, 109):\n",
    "    result = pipe(f\"<s>[INST] <<SYS>> {system_prompt} <</SYS>> {reference_dialogs[i]} [/INST]\")\n",
    "    trained_model_summaries.append(result[0]['generated_text'])\n",
    "    \n",
    "trained_model_summaries[52]"
   ]
  },
  {
   "cell_type": "code",
   "execution_count": 12,
   "id": "86732a32-d769-46e5-8acb-21985288e362",
   "metadata": {},
   "outputs": [
    {
     "data": {
      "text/plain": [
       "\"<s>[INST] <<SYS>> The following text is a conversation between a human and an AI agent. Write a summary of the conversation. <</SYS>> user: it would have been really nice when I booked my ticket to get a heads up that my purchase ONLY allowed a middle seat. That's what they're telling me here at the gate in Atlanta, anyway... 🤷🏻\\u200d♀️ I'm a traveler who reads the fine print, so this is disappointing\\nagent: Hi Hadas, none of our tickets restrict you to middle seats only. If available, you should be able to move to a window or aisle. I'm sorry for the incorrect information. Please DM your confirm # and I can see if there is another seat to move to. *TJW \\nuser: I'll pull up your reply if I ever run into a similar issue. There were empty seats on the flight, and I moved. It seems that your gate agent simply didn't feel like making the effort to find me another seat. DL 1105 from Atlanta today. Thanks for replying.  And for the record - she told me flat out that the ticket I purchased allowed for middle seats only.\\nagent: I am very sorry that you were told the wrong information. I'm glad you were able to move but I apologize that the agent did not assist you with this. I will forward this to Atlanta Leadership so they are aware of the incident. We are always here on Twitter to help, too. *TJW\\nuser: Thank you!\\nagent: You are welcome. Have a wonderful week. *TJW\\nuser: You too. Glad to hear the policy is not what I was told.\\nagent: Moving forward, I hope it will be a better experience for you for your seating arrangements the next time, Hadas. We value your patronage with us. Best to you and your travels that are coming! *ADB\\n [/INST] Customer is complaining that he was told that the ticket he purchased allowed for middle seats only. Agent updated that none of their tickets restrict them to middle seats only and if available they should be able to move to a window or aisle.\""
      ]
     },
     "execution_count": 12,
     "metadata": {},
     "output_type": "execute_result"
    }
   ],
   "source": [
    "trained_model_summaries[52]"
   ]
  },
  {
   "cell_type": "markdown",
   "id": "0fd519fb-ad24-49b4-9c4d-c3bd6d81ab2b",
   "metadata": {},
   "source": [
    "<b> We create two functions to clean the summaries text outputs from the base model and the fine-tuned model </b> "
   ]
  },
  {
   "cell_type": "code",
   "execution_count": 13,
   "id": "9266f040",
   "metadata": {},
   "outputs": [],
   "source": [
    "def clean_base_summaries(generated_summaries):\n",
    "    for i in range(0,len(generated_summaries)):\n",
    "        text = generated_summaries[i]\n",
    "        index = text.find(\"\\n\\n\")\n",
    "        summary = text[index:]\n",
    "        summary = summary.strip()\n",
    "        generated_summaries[i] = summary\n",
    "        i += 1\n",
    "        \n",
    "def clean_trained_summaries(generated_summaries):\n",
    "    for i in range(0,len(generated_summaries)):\n",
    "        text = generated_summaries[i]\n",
    "        index = text.find(\"[/INST]\")\n",
    "        summary = text[index+8:]\n",
    "        summary = summary.strip()\n",
    "        generated_summaries[i] = summary\n",
    "        i += 1"
   ]
  },
  {
   "cell_type": "code",
   "execution_count": 14,
   "id": "cd9c52d7",
   "metadata": {},
   "outputs": [
    {
     "data": {
      "text/plain": [
       "['.',\n",
       " 'The human, Robert, is seeking help with an issue regarding their underpayment for August and September. Despite contacting payroll weeks ago and not receiving a response, Robert is still waiting for their pay. The agent suggests that Robert return to the store where they worked and speak with the manager to resolve the issue. The agent offers to provide contact information for someone senior who can assist Robert.',\n",
       " \"[/INST]  Sure! Here is a summary of the conversation in two sentences:\\n\\nThe user has been unable to access the red zone since yesterday after renewing their Ultimate HD through an online chat. The agent asks for the user's ticket number, but the user does not have it as they have been on hold and back and forth with various accounts and tech help.\",\n",
       " 'The human, Angie, contacted the agent to report that the song \"Breezeblocks\" by Alt-J had been replaced with another song called \"Fitzpleasure\" on their Spotify account. The agent asked Angie to provide the song link so they could check it out, but Angie informed them that the song was actually \"Fitzpleasure\" and not \"Breezeblocks\". The agent thanked Angie for letting them know and asked for more information to help resolve the issue.',\n",
       " 'The human is on a train from Swindon to Reading and has heard that the line is closed between the stations. They ask the agent how their train will get through, and the agent explains that the train will go through Chippenham first and then continue on to Reading via the B & H line, which passes through several towns and villages instead of the direct route via Didcot. The human finds this interesting and thanks the agent for the information.',\n",
       " '.',\n",
       " \"The human is frustrated that the map module in Lightroom is still going offline despite previous assurances that the issue was resolved. The agent checks the version of Lightroom installed on the human's computer and discovers that it is an older version that was resolved in 2015.12/6.12. The agent offers to connect the human with an expert who can help resolve the issue, but the human declines the offer. The agent expresses willingness to assist with the uninstalling and reinstalling of Lightroom, but the human declines again.\\n\\nIn two sentences, the conversation can be summarized as follows:\\n\\nThe human is experiencing issues with the map module in Lightroom, despite previous assurances that the problem was resolved. The agent offers to connect the human with an expert who can help resolve the issue, but the human declines the offer.\",\n",
       " 'The human is frustrated with the delay in receiving a refund and expresses their desire for a holiday. The agent apologizes for the delay and directs the human to contact the Holidays team for assistance. The human is planning a trip to Thailand and the agent wishes them a great trip and assures them that their refund will be processed soon.',\n",
       " '.',\n",
       " '.',\n",
       " 'The user reported that the \"Trash\" button on an email notification on their latest iOS does not work, and they do not receive an error message when trying to delete an email. The agent asked the user to provide more information, such as the version of iOS they are running and if they use the native Mail app or a third-party app, and suggested possible workarounds such as restarting the iPhone or closing the app in Multitasking.',\n",
       " \"Thanks!\\nagent: Thanks for that information. Mind passing us screenshots of what you're seeing?\\nuser: Sorry, screenshots of what exactly?\\nagent: We'll be able to assist you better over the phone. Please give us a call at 1-800-379-6453 (8a-5p PT, M-F) when you get the chance.\\n [/INST]  Sure! Here is a summary of the conversation between the human and the agent:\\n\\nThe human is using the Run app and has been consistently completing their workouts faster and longer than the app's suggestions. However, after updating their data, the app reduced the mileage for the next week's workouts and slowed down their times even further. The agent asks for more information, including the device and app version being used, and requests screenshots of the issue. The agent offers to assist the human over the phone.\",\n",
       " 'The user is experiencing issues with their iPhone since the update to iOS 11, including slow performance, app freezes, and difficulty installing and opening apps. The agent asks the user to provide more information, such as the version of iOS 11 they are using, when they notice the issues, and whether they are keeping regular backups of their iPhone.',\n",
       " \"The human is trying to set up a custom log import but is having trouble adding a custom log import configuration to the list. The agent asks the human to post the link to the created forum post so that the team can assist. The human sends the link and the agent informs them that they have alerted the team and they should respond shortly.\\n\\nLater in the conversation, the human mentions that they still haven't heard back from the team and the agent apologizes and promises to reach out to the team again to inquire about the status of their request.\",\n",
       " 'The human asks the agent about the status of the 846 FNB-WAT train, expressing frustration with the frequent delays and poor service. The agent explains that there have been two incidents on the network that morning, causing delays, and apologizes for the inconvenience.',\n",
       " 'In summary, Tom is unhappy with the poor service he received from the airline, including the cancellation of his flight with no notice, and the agent is trying to help him by providing information on compensation and baggage services.',\n",
       " 'A human is asking an agent to provide strobe lighting on a train for a corporate awards ceremony. The agent is hesitant but agrees to help after the human offers to buy them a drink. The human is excited for the agent to come to their office.\\n\\nThe agent is unsure if they can provide the strobe lighting in time, but the human is insistent and offers to help in any way they can. The agent agrees to provide the lighting, but only if they are not serving gin. The human offers to buy them a drink instead.',\n",
       " '.',\n",
       " 'The human, who is using an iPhone 8 Plus, is unable to use Siri. The human has tried disabling and re-enabling Siri, but still experiences the issue. The agent asks the human to check if \"Allow Siri When Locked\" is enabled under Settings > Siri & Search, and when the human confirms that it is, the agent suggests updating the iOS software to the latest version (11.2). The agent directs the human to create a backup using iTunes or iCloud before updating, and promises to help further if the issue persists after updating.',\n",
       " 'The human contacted the agent because the auto check-in feature on the iOS app checked them in as standby on their flight, despite usually getting upgraded. The agent helped the human locate the setting to turn off the automatic check-in option in their app settings.',\n",
       " \"The human is pleased with their contour box, but encounters an error message 87% of the time. The agent asks if resetting the box helps, but the human reports that it doesn't. The agent offers to send a signal from the office and schedule a service appointment if necessary. The human agrees to try the suggested solution in the morning and reports back.\\n\\nThe agent is available on Twitter 24/7 to assist with any further issues.\",\n",
       " 'The human is inquiring about the flight number from CGK to KUL at 8:30am and wants to know if their bag will be brought with that flight. The agent confirms the flight number and informs the human that their bag will be carried on the flight. The human thanks the agent and mentions that they had a bad experience with the ground staff in CGK, but the agent apologizes and offers further assistance if needed.',\n",
       " 'The human asks the agent about the status of the 846 FNB-WAT train, expressing frustration with the frequent delays and poor service. The agent explains that there have been two incidents on the network that morning, causing delays, and apologizes for the inconvenience.',\n",
       " '.',\n",
       " 'The user is upset with the agent and the train company for leaving passengers stranded for three hours without any explanation or assistance. The agent apologizes for any inconvenience caused and explains that they are contracted to work from 7am to 7pm Monday to Friday, and any updates or help would be provided at stations.',\n",
       " 'The human, David, is trying to get home with his disabled wife after realizing they need to change trains during their journey from London Euston to Liverpool. The agent suggests booking assistance with Journey Care, which can help with the change of trains, but David explains that they have already been asked to pay for another train and are looking for alternative solutions.',\n",
       " '.',\n",
       " 'The human, Robert, is seeking help with an issue regarding their underpayment for August and September. Despite contacting payroll weeks ago and not receiving a response, Robert is still waiting for their pay. The agent suggests that Robert return to the store where they worked and speak with the manager to resolve the issue. The agent offers to provide contact information for someone senior who can assist Robert.',\n",
       " '.',\n",
       " 'The human is frustrated with the delay in receiving a refund and expresses their desire for a holiday. The agent apologizes for the delay and directs the human to contact the Holidays team for assistance. The human is planning a trip to Thailand and the agent wishes them a great trip and assures them that their refund will be processed soon.',\n",
       " \"user: I unplugged the phone from my Mac keyboard's USB and instead straight into the Mac and the Restore completed. No idea why that matters. #fin\\nagent: Thank you for letting us know. Is everything working correctly for you now?\\n [/INST]  Sure! Here is a summary of the conversation between the human and the agent:\\n\\nThe human is experiencing issues updating their iPhone to iOS 11.0.2 and is receiving a blank screen during the restore process. The agent asks for more information and suggests attempting to restore the iPhone via Recovery Mode, which the human successfully completes by connecting their phone directly to their Mac instead of using a USB keyboard.\\n\\nIn summary, the human is able to successfully restore their iPhone using Recovery Mode after connecting it directly to their Mac, despite previously experiencing a blank screen during the restore process.\",\n",
       " 'The human is experiencing problems with their HP Envy 7640 printer, which they have set as their default printer. Despite the HP doctor fixing the issues, the printer still does not work properly, with the human unable to print from one computer. The agent asks the human to send a direct message with more details in order to help resolve the issue.',\n",
       " \"The human went to a shop in Thika to buy a Lip na Mpesa wristband but was sent to Annas Mall where they couldn't find the agent's team. The agent apologized and suggested the human check with any M-PESA agent or Safaricom authorized dealer.\\n\\nThe human asked if they could get the wristband at the agent's shop on Moi Avenue, and the agent confirmed that they were available but could only be used in the towns mentioned earlier (Nairobi, Mombasa, Kisumu, Eldoret, and Nyeri).\",\n",
       " '.',\n",
       " 'The human encountered an error code CE-30022-7 while playing TLOU Remastered and reached out to the agent for help. The agent asked the human to provide more information about the error, including what they were doing in the console when the error occurred and if they saw any other error codes.',\n",
       " 'The human asks the agent about the status of the 846 FNB-WAT train, expressing frustration with the frequent delays and poor service. The agent explains that there have been two incidents on the network that morning, causing delays, and apologizes for the inconvenience.',\n",
       " 'The human asked the agent how to use the Red Eye Removal tool in Lightroom CC, but the agent informed them that it is not available in Lightroom CC. The human expressed frustration that this basic feature is missing from the \"new\" Lightroom CC and asked for a list of features that are missing. The agent suggested reporting the issue to the product teams and engineers, and provided a link to a page where the human can suggest new features. The agent also mentioned that Lightroom Classic CC has all the features that the old Lightroom CC had, and provided a link to an article that compares the differences between the two.',\n",
       " 'The human, Samm, was using headphones on their HP laptop but they stopped working today. The agent asked for details and Samm explained they are using Windows 10 on a new computer and have not made any changes to the settings. Samm tried using a different headphone on their phone and it worked fine, but on their computer, the headphones were silent despite the volume being turned up. The agent suggested updating the drivers, but Samm had already tried that. The issue was resolved when Samm restarted their computer. The agent thanked Samm for their time and asked them to rate their experience.',\n",
       " 'The human reported that their BITS service resets its Startup type from disabled to automatic, causing it to leech on to their bandwidth. The agent asked for more information, such as the Windows version being used, and provided troubleshooting steps from a link. The human confirmed that the service still becomes running after disabling it, and the agent suggested contacting Answer Desk for further assistance.',\n",
       " 'The user has been experiencing issues with their internet connection, including fluctuating speeds and frequent disconnections, despite spending thousands of dollars on equipment and home repairs. The agent offers to speak privately with the user via direct message (DM) to further investigate the issue.',\n",
       " 'The user has been experiencing issues with their internet connection, including fluctuating speeds and frequent disconnections, despite spending thousands of dollars on equipment and home repairs. The agent offers to speak privately with the user via direct message (DM) to further investigate the issue.',\n",
       " 'The human is unhappy about a price increase for prepacked sweet potatoes, which used to cost £1/kg but is now £1.50/725g. The agent apologizes and is unable to locate the product with the old price, and offers to log the human\\'s comments for review.\\n\\nThe human provides more information about the product, which was rebranded as \"Sweet Baking Potatoes\" and is now available in a smaller 725g bag. The agent thanks the human for their feedback and asks for their personal information to log the comments.',\n",
       " 'The human is having trouble connecting to a Site-to-Site VPN using PowerShell and needs help with the IPSec settings in Azure. The agent asks for more information and provides a link to documentation that might help resolve the issue.\\n\\nThe human responds that they have tried the documentation but still cannot get the VPN to connect, and the agent offers to keep looking into the issue and provide updates.',\n",
       " 'The human, David, is trying to get home with his disabled wife after realizing they need to change trains during their journey from London Euston to Liverpool. The agent suggests booking assistance with Journey Care, which can help with the change of trains, but David explains that they have already been asked to pay for another train and are looking for alternative solutions.',\n",
       " 'The human is unhappy with the service they received from the agent and is requesting assistance to resolve their network issue. The agent apologizes for the inconvenience and requests the human to share their Idea number and an alternate number so they can assist them better.\\n\\nThe human corrects the agent by providing the correct alternate number, but the agent still expresses regret for the inconvenience caused and notes the contact details for further assistance.',\n",
       " 'The human contacted the agent because their account was linked to an old phone number, and they received a request to verify their account by sending a code or making a call to that old number. The agent promised to have a specialist contact the human to help them link their account to their current number.\\n\\nThe human thanked the agent and expressed hope to get in touch soon. The agent asked the human to delete a post with personal information and informed them that a case manager had been assigned to their case, who would follow up with them shortly. The human thanked the agent again, and the agent encouraged them to reach out with any further questions or concerns.',\n",
       " \"The user, Giselle, is frustrated with their bank's lack of compassion after speaking with a manager in the customer service department who refused to help with their overdraft fees, despite Giselle's efforts to rectify the situation. The agent responds by offering to review Giselle's account with her and provides a link to send their personal information.\",\n",
       " \"The human, Katharine, is upset because Delta charged her friend $130 to transfer miles to help Katharine book a trip. Katharine's friend was not traveling, but instead helped Katharine by transferring miles to her account. The agent explains that there are fees involved in transferring miles and that it can only be done online. Katharine asks where she can go online to help her friend get reimbursed for the transfer fee, but the agent explains that Delta does not offer reimbursement for transfer fees. The agent suggests that Katharine's friend could have purchased the ticket for her using his miles instead of transferring them, which would have avoided the transfer fee. Katharine expresses frustration that the agent did not ask about the miles available in her friend's account and provides a link for Katharine to submit her concerns.\",\n",
       " \"The human is frustrated because their phone keeps ringing and they can't get in touch with Stratford Upon Avon. They ask the agent if they can help with the issue. The agent responds by asking for more information and offers to help the human with their Click Collect order through EBay, which is set to expire the next day. The human provides the reference code for the order, and the agent informs them that the item will be held until the store closes on that day.\",\n",
       " 'The human reported that their BITS service resets its Startup type from disabled to automatic, causing it to leech on to their bandwidth. The agent asked for more information, such as the Windows version being used, and provided troubleshooting steps from a link. The human confirmed that the service still becomes running after disabling it, and the agent suggested contacting Answer Desk for further assistance.',\n",
       " 'The human, JaeJae, is locked out of their email account and is having trouble filling out the forms to recover it. The agent is there to help and asks JaeJae to provide more information about the issue, including the last time they were able to access their account and any changes they have made to their device or travel. The agent offers to help JaeJae recover their account and asks them to send a direct message for further assistance.\\n\\nIn summary, JaeJae is unable to access their email account and is seeking help from the agent to recover it, and the agent is offering assistance and gathering more information to help resolve the issue.',\n",
       " \"The human is pleased with their contour box, but encounters an error message 87% of the time. The agent asks if resetting the box helps, but the human reports that it doesn't. The agent offers to send a signal from the office and schedule a service appointment if necessary. The human agrees to try the suggested solution in the morning and reports back.\\n\\nThe agent is available on Twitter 24/7 to assist with any further issues.\",\n",
       " 'A human named Hadas booked a flight ticket but was told at the gate in Atlanta that their purchase only allowed a middle seat, which was not what they were told when they booked. The agent apologized for the mistake and offered to help find another seat, but Hadas was able to move to an empty seat on the flight.',\n",
       " \"The human went to a shop in Thika to buy a Lip na Mpesa wristband but was sent to Annas Mall where they couldn't find the agent's team. The agent apologized and suggested the human check with any M-PESA agent or Safaricom authorized dealer.\\n\\nThe human asked if they could get the wristband at the agent's shop on Moi Avenue, and the agent confirmed that they were available but could only be used in the towns mentioned earlier (Nairobi, Mombasa, Kisumu, Eldoret, and Nyeri).\",\n",
       " '.',\n",
       " \"The human is inquiring about technical issues with the website and is having trouble adding a passenger to a flight using their points. The agent informs the human that they may need to book the passenger separately and offers to help resolve the issue through the website or by calling the reservations team. The human thanks the agent and expresses their willingness to try logging in again.\\n\\nThe agent acknowledges the human's message and offers additional support, stating that they can be reached through direct message if needed.\",\n",
       " 'The human, Angie, contacted the agent to report that the song \"Breezeblocks\" by Alt-J had been replaced with another song called \"Fitzpleasure\" on their Spotify account. The agent asked Angie to provide the song link so they could check it out, but Angie informed them that the song was actually \"Fitzpleasure\" and not \"Breezeblocks\". The agent thanked Angie for letting them know and asked for more information to help resolve the issue.',\n",
       " '.',\n",
       " '.',\n",
       " \"The human, Stephan, is inquiring about the status of Flight 112 from ORD-BOS, which was initially delayed, then undelayed, and is now delayed again. The agent suggests that Stephan reach out to the airport crew for the most up-to-date information, as they have the most accurate information. Stephan clarifies that he was not at the airport and was receiving updates through the app and email, and the agent explains that the flight's current departure time is the most current information available.\",\n",
       " \"If yes, what did you find out when you contacted your carrier and when you restored it as new in iTunes?\\nuser: My Carrier didn’t give me a solution,and I don’t want restored my phone,that scary me.,can you do something or... I don’t know if is the iOS.\\nagent: To make sure, did your carrier find everything ok on their end when you asked them about the section 'Contact your carrier' in the link we provided?\\nuser: Yes,I contact them but they don’t give me a solution,and yes,I complete everything you say me,without restored. I don’t like it.\\nagent: Got it. Let us know if you have a recent backup of your data in DM. We'll continue there: \\nuser: Not new but recent.my information can delete? Or my pictures? Or my messages?\\nagent: With restoring, your information will be deleted, which is why you want to have a recent backup. You can follow the steps in this link for restoring:  If you have any questions, send them over to us in DM from this link: \\nuser: Ok thanks,I’ll  ask you question,but,the best idea can be than I wait for a new  iOS,that’s can be the problem?\\nagent: Restoring your device will place a new version of the iOS on your device which can help resolve this issue. Let's discuss it more in DM. \\n [/INST]  The human had an issue with their iPhone where they could not make or receive calls, and they contacted Apple Support for help. The agent offered support via Twitter in English and recommended that the human try a recent backup of their data. The human was unsure if restoring their device would delete their information, so the agent provided a link for restoring and offered to answer any questions in direct messages.\",\n",
       " 'The human is experiencing problems with their HP Envy 7640 printer, which they have set as their default printer. Despite the HP doctor fixing the issues, the printer still does not work properly, with the human unable to print from one computer. The agent asks the human to send a direct message with more details in order to help resolve the issue.',\n",
       " 'The human, who is using an iPhone 8 Plus, is unable to use Siri. The human has tried disabling and re-enabling Siri, but still experiences the issue. The agent asks the human to check if \"Allow Siri When Locked\" is enabled under Settings > Siri & Search, and when the human confirms that it is, the agent suggests updating the iOS software to the latest version (11.2). The agent directs the human to create a backup using iTunes or iCloud before updating, and promises to help further if the issue persists after updating.',\n",
       " 'The human contacted the agent because their account was linked to an old phone number, and they received a request to verify their account by sending a code or making a call to that old number. The agent promised to have a specialist contact the human to help them link their account to their current number.\\n\\nThe human thanked the agent and expressed hope to get in touch soon. The agent asked the human to delete a post with personal information and informed them that a case manager had been assigned to their case, who would follow up with them shortly. The human thanked the agent again, and the agent encouraged them to reach out with any further questions or concerns.',\n",
       " '.',\n",
       " '.',\n",
       " 'The user is experiencing issues with their iPhone since the update to iOS 11, including slow performance, app freezes, and difficulty installing and opening apps. The agent asks the user to provide more information, such as the version of iOS 11 they are using, when they notice the issues, and whether they are keeping regular backups of their iPhone.',\n",
       " '.',\n",
       " 'The human is experiencing problems with their HP Envy 7640 printer, which they have set as their default printer. Despite the HP doctor fixing the issues, the printer still does not work properly, with the human unable to print from one computer. The agent asks the human to send a direct message with more details in order to help resolve the issue.',\n",
       " 'The human encountered an error code CE-30022-7 while playing TLOU Remastered and reached out to the agent for help. The agent asked the human to provide more information about the error, including what they were doing in the console when the error occurred and if they saw any other error codes.',\n",
       " '.',\n",
       " 'A passenger, Adrian, is stuck at a train station waiting for a Reading train, but there is no information or advice being provided to passengers on the platform despite the reason for the delay being known. The agent explains that due to electric supply problems, no trains are currently able to run to Reading, but the line has since been opened again and trains can now run between Wokingham and Reading.',\n",
       " \"The human is experiencing an issue with their AirPods, where they are connected but don't play audio anymore. The agent asks the human some questions to troubleshoot the issue, including what iOS version they are on and if they have tried unpairing and pairing their AirPods again. The human confirms that updating to iOS 11.1 has fixed the issue.\",\n",
       " \"The human is experiencing a problem with a stuck ad on their web player, despite trying various solutions such as refreshing, restarting, and logging out. The agent suggests clearing the browser's cache and cookies, updating the browser to the latest version, and accessing the web player using a private or incognito window. When these solutions do not work, the agent asks the human to send their account's email address or username via direct message so that the agent can continue to help.\\n\\nThe human responds that they do not have Firefox but tried it on Edge and the issue persists, and agrees to send their account information via direct message.\",\n",
       " '.',\n",
       " '.',\n",
       " \"The human is frustrated that the map module in Lightroom is still going offline despite previous assurances that the issue was resolved. The agent checks the version of Lightroom installed on the human's computer and discovers that it is an older version that was resolved in 2015.12/6.12. The agent offers to connect the human with an expert who can help resolve the issue, but the human declines the offer. The agent expresses willingness to assist with the uninstalling and reinstalling of Lightroom, but the human declines again.\\n\\nIn two sentences, the conversation can be summarized as follows:\\n\\nThe human is experiencing issues with the map module in Lightroom, despite previous assurances that the problem was resolved. The agent offers to connect the human with an expert who can help resolve the issue, but the human declines the offer.\",\n",
       " \"The human is trying to set up a custom log import but is having trouble adding a custom log import configuration to the list. The agent asks the human to post the link to the created forum post so that the team can assist. The human sends the link and the agent informs them that they have alerted the team and they should respond shortly.\\n\\nLater in the conversation, the human mentions that they still haven't heard back from the team and the agent apologizes and promises to reach out to the team again to inquire about the status of their request.\",\n",
       " 'The human is experiencing problems with their HP Envy 7640 printer, which they have set as their default printer. Despite the HP doctor fixing the issues, the printer still does not work properly, with the human unable to print from one computer. The agent asks the human to send a direct message with more details in order to help resolve the issue.',\n",
       " 'The user expressed their frustration to the agent, saying \"I hate you, I hate you, I hate you, I hate you\" and asked for a direct flight to Pittsburgh without waiting four hours. The agent apologized for the delay and offered to help the user in any way they could, including providing a small compensation for their trouble.',\n",
       " \"The user asked the agent why they hate them, but the agent assured them they don't hate them and offered to help with any issues. The user explained that they are unhappy with their internet service provider, which only provides 3mbps to their house, making it difficult to complete school work or play Xbox with friends.\",\n",
       " '.',\n",
       " 'The human is on a train from Swindon to Reading and has heard that the line is closed between the stations. They ask the agent how their train will get through, and the agent explains that the train will go through Chippenham first and then continue on to Reading via the B & H line, which passes through several towns and villages instead of the direct route via Didcot. The human finds this interesting and thanks the agent for the information.',\n",
       " '.',\n",
       " 'A human named Hadas booked a flight ticket but was told at the gate in Atlanta that their purchase only allowed a middle seat, which was not what they were told when they booked. The agent apologized for the mistake and offered to help find another seat, but Hadas was able to move to an empty seat on the flight.',\n",
       " 'In summary, Tom is unhappy with the poor service he received from the airline, including the cancellation of his flight with no notice, and the agent is trying to help him by providing information on compensation and baggage services.',\n",
       " \"The human had difficulty booking seats online and encountered unhelpful customer service agents. The agent apologized for the inconvenience and asked for more information to assist the human, including the airport they traveled from and the reference number for their elderly neighbor's booking.\",\n",
       " 'The human is looking to change their flight from SLC to ORD on October 27th and the agent provides the cost of the change, which is $185.30, including all airport taxes and fees. The agent also informs the human that the ticket is non-refundable and changeable with a fee, and may result in additional fare collection for future changes.\\n\\nThe human asks if their first class seat purchased for the original flight will be the same with this flight to Chicago, and the agent confirms that it is in first class. The human then asks if they have to call or if there is a means to do this online, and the agent informs them that they can call or login to their trip on the website to make changes.',\n",
       " 'The human, who is using an iPhone 8 Plus, is unable to use Siri. The human has tried disabling and re-enabling Siri, but still experiences the issue. The agent asks the human to check if \"Allow Siri When Locked\" is enabled under Settings > Siri & Search, and when the human confirms that it is, the agent suggests updating the iOS software to the latest version (11.2). The agent directs the human to create a backup using iTunes or iCloud before updating, and promises to help further if the issue persists after updating.',\n",
       " \"The human had difficulty booking seats online and encountered unhelpful customer service agents. The agent apologized for the inconvenience and asked for more information to assist the human, including the airport they traveled from and the reference number for their elderly neighbor's booking.\",\n",
       " \"The human is trying to order online from Tesco but is unable to reset their password as the password reset email never arrives. The agent suggests checking the junk or spam email folder and offers to update the human's email address to try a different one. The human has already tried this and is now hoping to place their order but it doesn't look likely. The agent replies to the human's direct message and offers further assistance.\",\n",
       " '.',\n",
       " '.',\n",
       " 'The human, Sandy, is upset that they cannot order a Halloween cake for delivery before October 31st. The agent, Charlotte, explains that the bakery needs advance notice to place the order, and Sandy suggests that they should have been able to order it earlier. The agent, Dani, apologizes for any disappointment caused and explains that the bakery needs 6 days to prepare the cake after the order is placed. Sandy expresses frustration that they will not be able to receive the cake on Halloween, but the agent, Ross, offers to still make the cake available for order in case anyone is interested.',\n",
       " 'The human, Abby, is frustrated because she has been hung up on four times while trying to add two bags to her account. The agent, HPL, apologizes for the trouble and suggests that Abby pay for one of the bags at the airport kiosk or at the bag drop with an agent.',\n",
       " \"The human is experiencing a problem with a stuck ad on their web player, despite trying various solutions such as refreshing, restarting, and logging out. The agent suggests clearing the browser's cache and cookies, updating the browser to the latest version, and accessing the web player using a private or incognito window. When these solutions do not work, the agent asks the human to send their account's email address or username via direct message so that the agent can continue to help.\\n\\nThe human responds that they do not have Firefox but tried it on Edge and the issue persists, and agrees to send their account information via direct message.\",\n",
       " 'The human is frustrated with the delay in receiving a refund and expresses their desire for a holiday. The agent apologizes for the delay and directs the human to contact the Holidays team for assistance. The human is planning a trip to Thailand and the agent wishes them a great trip and assures them that their refund will be processed soon.',\n",
       " 'The human is unhappy with the service they received from the agent and is requesting assistance to resolve their network issue. The agent apologizes for the inconvenience and requests the human to share their Idea number and an alternate number so they can assist them better.\\n\\nThe human corrects the agent by providing the correct alternate number, but the agent still expresses regret for the inconvenience caused and notes the contact details for further assistance.',\n",
       " 'The human, Gregory, is experiencing an issue with the MSG channel not working through the Roku app. The agent apologizes for the inconvenience and asks if anyone else has assisted Gregory with the issue. Gregory indicates that he still needs help and provides a screenshot of the issue. The agent asks if Gregory has a cable box in his home and if he is receiving MSG through that channel. Gregory confirms that he does have a cable box and is receiving MSG through it. The agent then asks Gregory to turn off the Roku and unplug his modem for 20-30 seconds and re-plug the equipment. Despite these steps, the issue persists, and the agent offers to follow up with Gregory by requesting his account details (phone number and full address) to further investigate the issue.',\n",
       " \"The human is trying to order online from Tesco but is unable to reset their password as the password reset email never arrives. The agent suggests checking the junk or spam email folder and offers to update the human's email address to try a different one. The human has already tried this and is now hoping to place their order but it doesn't look likely. The agent replies to the human's direct message and offers further assistance.\",\n",
       " 'The human is on a train from Swindon to Reading and has heard that the line is closed between the stations. They ask the agent how their train will get through, and the agent explains that the train will go through Chippenham first and then continue on to Reading via the B & H line, which passes through several towns and villages instead of the direct route via Didcot. The human finds this interesting and thanks the agent for the information.',\n",
       " 'The human is frustrated with the delay in receiving a refund and expresses their desire for a holiday. The agent apologizes for the delay and directs the human to contact the Holidays team for assistance. The human is planning a trip to Thailand and the agent wishes them a great trip and assures them that their refund will be processed soon.',\n",
       " \"The human is trying to set up a custom log import but is having trouble adding a custom log import configuration to the list. The agent asks the human to post the link to the created forum post so that the team can assist. The human sends the link and the agent informs them that they have alerted the team and they should respond shortly.\\n\\nLater in the conversation, the human mentions that they still haven't heard back from the team and the agent apologizes and promises to reach out to the team again to inquire about the status of their request.\",\n",
       " 'The agent apologized for the ongoing issue and suggested uninstalling and reinstalling the app, as well as updating the iOS and Safari software. Despite following these steps, the user reported that the issue persisted, and the agent suggested contacting the technical team for further assistance.',\n",
       " 'The agent apologized for the ongoing issue and suggested uninstalling and reinstalling the app, as well as updating the iOS and Safari software. Despite following these steps, the user reported that the issue persisted, and the agent suggested contacting the technical team for further assistance.',\n",
       " 'The human subscribed to Play Music but is unable to play songs as it keeps telling them to subscribe. The agent helps the human by connecting them with a specialist to resolve the issue.\\n\\nThe human and the agent communicate back and forth to troubleshoot the problem, with the agent asking for more information and the human providing screenshots and details of the issue. The agent connects the human with a specialist to help resolve the problem.',\n",
       " '.',\n",
       " '.',\n",
       " 'The human is interested in buying the Lego World bundle for £299, but it is currently out of stock. The agent checks if there is an estimated date for the game to be restocked and offers to help the human with any future purchases.\\n\\nThe human and agent converse back and forth, with the human expressing their disappointment and the agent providing updates on the availability of the game. The agent apologizes for any inconvenience caused and offers assistance in the future.']"
      ]
     },
     "execution_count": 14,
     "metadata": {},
     "output_type": "execute_result"
    }
   ],
   "source": [
    "clean_base_summaries(base_model_summaries) "
   ]
  },
  {
   "cell_type": "code",
   "execution_count": 15,
   "id": "f71bf1c1",
   "metadata": {},
   "outputs": [
    {
     "data": {
      "text/plain": [
       "['Customer is complaining about the service. Agent updated that they are an English speaking team and asked to continue in English.',\n",
       " \"Customer is complaining that he was underpaid for August/September and he is still not sure what's going on. Agent updated that they need to chase with the store and they will need to contact them again for him.\",\n",
       " 'Customer is complaining that he is not able to get red zone since yesterday when he renewed his ultimate HD from an online chat. Agent updated that please follow and DM us for assistance.',\n",
       " 'Customer is complaining that the song has been replaced with other song. Agent updated that everything looks good on their end and asked to tell the device, operating system and version of Spotify they are using.',\n",
       " 'Customer is asking about the train route. Agent updated the customer that the train will go via Chippenham and arrives at 19:05.',\n",
       " 'Customer is complaining about the empty first class carriages on a packed train. Agent updates that it is a decision taken by the train manager based on the conditions on board.',\n",
       " 'Customer is complaining about the map module in LRCC. Agent updated that they will loop in an expert who can help them out.',\n",
       " \"Customer is complaining about the delay in getting refund. Agent updated that they can't do anything to speed up the refund via this channel and they will be with them soon.\",\n",
       " 'Customer is complaining that he paid for Amazon prime membership to get his delivery on a nominated day but it was not delivered on the day specified. Agent updated that they want to make sure this is fully resolved for him.',\n",
       " 'Customer is complaining about the smell in the aircraft. Agent updated that they are full on their DL1287 flight for today and suggested to reach out to one of their in-flight crew members on duty.',\n",
       " 'Customer is complaining that the trash button on email notification does not work on latest iOS. Agent asks to DM and they will go from there.',\n",
       " \"Customer is complaining that the app updated his plan using his new improved times and cut next week's runs by more than half and slowed his times even more. Agent asked to provide screenshots of what he is seeing and informed to call over the phone.\",\n",
       " \"Customer is complaining that his phone doesn't perform as it should. Agent updated that they will continue in DM.\",\n",
       " 'Customer is complaining about the issue of adding a custom log import configuration. Agent updated that they have alerted the team and they should reply to the forum post ASAP.',\n",
       " 'Customer is complaining about the delay in the train. Agent updated that there are two separate incidents on their network this morning which have led to delays.',\n",
       " 'Customer is complaining about the service provided by the agent. Agent updated the customer to follow the link to details on compensation in line with EU regulations.',\n",
       " 'Customer is asking for the strobe lighting in coach C. Agent is asking for the destination.',\n",
       " 'Customer is complaining that the controller is not working and he wants to exchange it with a new one. Agent is asking to reach out to the chat team to try and ensure that happens.',\n",
       " 'Customer is complaining that Siri do not work on iPhone 8 plus. Agent updated the customer to create a backup with iTunes or iCloud and update the software.',\n",
       " 'Customer is complaining that the auto check in on the iOS app checked him in as standby on his flight on which he usually gets upgraded. Agent updated that please check your app settings and if unable to locate it please contact online support team.',\n",
       " 'Customer is complaining about the error he gets 87% of the time. Agent asks to disconnect the power cord for a full 5 mins and then try to order or watch something on OnDemand.',\n",
       " 'Customer is enquiring about the flight number from CGK to KUL 8.30am. Agent updated that they will meet the flight today at 08.35 correct and provided a case number or booking number for a check.',\n",
       " 'Customer is complaining about the delay in the train. Agent updated that there are two separate incidents on their network this morning which have led to delays.',\n",
       " 'Customer is complaining that he paid for Amazon prime membership to get his delivery on a nominated day but it was not delivered on the day specified. Agent updated that they want to make sure this is fully resolved for him.',\n",
       " 'Customer is complaining about the service provided by the agent. Agent is asking to not continue swearing at him.',\n",
       " 'Customer is complaining that they are not able to get any help from customer services unless they are prepared to part with another £400 to get home with a disabled wife without changing trains. Agent updated that the only way to change it would be to pay for a change of journey.',\n",
       " 'Customer is complaining about the packaging of the item which was received from UK. Agent updated that they will be unable to provide the contact info for Pitney Bowes.',\n",
       " \"Customer is complaining that he was underpaid for August/September and he is still not sure what's going on. Agent updated that they need to chase with the store and they will need to contact them again for him.\",\n",
       " 'Customer is complaining about the stock of super mario odyssey and sonic forces in sainsburys. Agent updated that they will not hold any stock for customers and sorry to disappoint.',\n",
       " \"Customer is complaining about the delay in getting refund. Agent updated that they can't do anything to speed up the refund via this channel and they will be with them soon.\",\n",
       " 'Customer is complaining about the issue with the iPhone. Agent updated the customer to restore the iPhone via recovery mode.',\n",
       " 'Customer is complaining about the problem with the HP Envy printer. Agent updated the customer to send a private message and they will work to resolve.',\n",
       " \"Customer is complaining that he was sent to Annas Mall where he didn't find the team. Agent updated that they can visit any authorized dealer or the other shops in town for one.\",\n",
       " 'Customer is complaining about the stock of super mario odyssey and sonic forces in sainsburys. Agent updated that they will not hold any stock for customers and sorry to disappoint.',\n",
       " 'Customer is complaining about the error CE-30022-7. Agent updated that they will update if it arises again.',\n",
       " 'Customer is complaining about the delay in the train. Agent updated that there are two separate incidents on their network this morning which have led to delays.',\n",
       " 'Customer is asking about how to do red eye removal in lightroom cc. Agent updated the URL to show the customer how to use the red eye removal in lightroom cc.',\n",
       " \"Customer is complaining that the headphones doesn't work on his computer anymore. Agent updated the customer to try using a different headphone to check if it was his headphone having a problem.\",\n",
       " \"Customer is complaining that his BITS service resets it's Startup type from disabled to automatic. Agent updated that they will contact answer desk to further assist them with their concern.\",\n",
       " 'Customer is complaining about the internet service which goes in and out and fluctuates a lot. Agent requests to DM so that he can look further into this for the customer.',\n",
       " 'Customer is complaining about the internet service which goes in and out and fluctuates a lot. Agent requests to DM so that he can look further into this for the customer.',\n",
       " 'Customer is complaining about the price increase of sweet potato. Agent updated that they will strive to give their customers the best possible value and asked to DM his full name, address and email.',\n",
       " 'Customer is having problem with site to site VPN and PowerShell. Agent updated that they found some documentation that might help with this and asked to check back in and see if the documentation provided has helped them.',\n",
       " 'Customer is complaining that they are not able to get any help from customer services unless they are prepared to part with another £400 to get home with a disabled wife without changing trains. Agent updated that the only way to change it would be to pay for a change of journey.',\n",
       " 'Customer is complaining about the network issue. Agent requests to share the alternate number.',\n",
       " 'Customer is asking to link his account to his current number. Agent updated the case manager who will be following up with him shortly.',\n",
       " \"Customer is complaining that even when someone tries their hardest to rectify the situation and you still don't have compassion. Agent updated that please let us know if you change your mind and would like us to review your account with you.\",\n",
       " 'Customer is complaining about the transfer fee charged by delta. Agent updated that there may not have been enough miles in one account for the trip.',\n",
       " 'Customer is complaining about the phone call. Agent updated that the item will be held until the store closes on that day.',\n",
       " \"Customer is complaining that his BITS service resets it's Startup type from disabled to automatic. Agent updated that they will contact answer desk to further assist them with their concern.\",\n",
       " 'Customer is complaining that he is locked out of his email and cannot seem to get the forms right. Agent updated that they are always here to help and asked to send a direct message if they need assistance.',\n",
       " 'Customer is complaining about the error he gets 87% of the time. Agent asks to disconnect the power cord for a full 5 mins and then try to order or watch something on OnDemand.',\n",
       " 'Customer is complaining that he was told that the ticket he purchased allowed for middle seats only. Agent updated that none of their tickets restrict them to middle seats only and if available they should be able to move to a window or aisle.',\n",
       " \"Customer is complaining that he was sent to Annas Mall where he didn't find the team. Agent updated that they can visit any authorized dealer or the other shops in town for one.\",\n",
       " 'Customer is complaining about the problem with desktop website. Agent updated that they are working on a fix as we speak.',\n",
       " 'Customer is asking about the maintenance of the website. Agent updated that they are not aware of any technical issues with their website at the moment.',\n",
       " 'Customer is complaining that the song has been replaced with other song. Agent updated that everything looks good on their end and asked to tell the device, operating system and version of Spotify they are using.',\n",
       " 'Customer is complaining that he is still waiting for his refund. Agent updated that they are waiting for an update from their payment team and once they have further information, they will contact him.',\n",
       " 'Customer is complaining about the delivery of the parcel. Agent updated that they will need the tracking number to see what specifically is going on.',\n",
       " 'Customer is complaining about the delay in flight. Agent updated that the current departure time is shown in the app and email.',\n",
       " 'Customer is complaining that he is unable to make or receive calls. Agent updated that they will continue in DM.',\n",
       " 'Customer is complaining about the problem with the HP Envy printer. Agent updated the customer to send a private message and they will work to resolve.',\n",
       " 'Customer is complaining that Siri do not work on iPhone 8 plus. Agent updated the customer to create a backup with iTunes or iCloud and update the software.',\n",
       " 'Customer is asking to link his account to his current number. Agent updated the case manager who will be following up with him shortly.',\n",
       " 'Customer is complaining about the horrible customer service and from a so-called \"supervisor\" at that. Agent updated that they want to make sure that they are satisfied with Sprint.',\n",
       " 'Customer is complaining about the smell in the aircraft. Agent updated that they are full on their DL1287 flight for today and suggested to reach out to one of their in-flight crew members on duty.',\n",
       " \"Customer is complaining that his phone doesn't perform as it should. Agent updated that they will continue in DM.\",\n",
       " 'Customer is complaining that he was given the wrong copy of the game. Agent updated that they would need to speak to EA.',\n",
       " 'Customer is complaining about the problem with the HP Envy printer. Agent updated the customer to send a private message and they will work to resolve.',\n",
       " 'Customer is complaining about the error CE-30022-7. Agent updated that they will update if it arises again.',\n",
       " 'Customer is complaining about the windows 10 update. Agent updated the customer to visit the link to help them change their notification and action settings.',\n",
       " 'Customer is complaining about the train service. Agent updated that the line is open again and trains can now run between Wokingham and Reading.',\n",
       " \"Customer is complaining that air pods are connected but don't play audio anymore. Agent updated to iOS 11.1 and informed to create a backup of the data on both devices.\",\n",
       " \"Customer is complaining about the web player which is stuck on the ad even after refresh, restart, re-log in and trying on different computer. Agent updated to send the account's email address or username via DM.\",\n",
       " \"Customer is complaining about the service. Agent updated that they don't offer support unless they have a box.\",\n",
       " 'Customer is complaining about the middle seat when he had a perfectly good aisle seat. Agent updates that if the airport has control then he is unable to reassign the seat.',\n",
       " 'Customer is complaining about the map module in LRCC. Agent updated that they will loop in an expert who can help them out.',\n",
       " 'Customer is complaining about the issue of adding a custom log import configuration. Agent updated that they have alerted the team and they should reply to the forum post ASAP.',\n",
       " 'Customer is complaining about the problem with the HP Envy printer. Agent updated the customer to send a private message and they will work to resolve.',\n",
       " 'Customer is complaining about the delayed flight. Agent updated that they will review the issue and will DM once they land.',\n",
       " 'Customer is complaining about the service provided by the company. Agent updated that they can double check the services by the address.',\n",
       " 'Customer is complaining that he is still waiting for his refund. Agent updated that they are waiting for an update from their payment team and once they have further information, they will contact him.',\n",
       " 'Customer is asking about the train route. Agent updated the customer that the train will go via Chippenham and arrives at 19:05.',\n",
       " 'Customer is complaining about the service. Agent updated that they are an English speaking team and asked to continue in English.',\n",
       " 'Customer is complaining that he was told that the ticket he purchased allowed for middle seats only. Agent updated that none of their tickets restrict them to middle seats only and if available they should be able to move to a window or aisle.',\n",
       " 'Customer is complaining about the service provided by the agent. Agent updated the customer to follow the link to details on compensation in line with EU regulations.',\n",
       " 'Customer is unable to book seats online and very unhelpful customer service agents. Agent states that they will pass the comments to the airport managers.',\n",
       " 'Customer is looking to change his flight on Friday. Agent updated that the difference in fare is $185.30 and it is non refundable changeable with a fee.',\n",
       " 'Customer is complaining that Siri do not work on iPhone 8 plus. Agent updated the customer to create a backup with iTunes or iCloud and update the software.',\n",
       " 'Customer is unable to book seats online and very unhelpful customer service agents. Agent states that they will pass the comments to the airport managers.',\n",
       " 'Customer is complaining about the password reset email never arrives. Agent updated to DM his full name, address and email so that they may look into this.',\n",
       " 'Customer is asking about the sky club guest for platinum medallion. Agent updated that the passenger must be traveling under the same pnr (reservation) as the customer.',\n",
       " 'Customer is complaining that the controller is not working and he wants to exchange it with a new one. Agent is asking to reach out to the chat team to try and ensure that happens.',\n",
       " 'Customer is complaining about the halloween cake. Agent updated that they need a few days advance notice to get the order in.',\n",
       " 'Customer is complaining about the issue of adding two bags on his account. Agent updated that they are able to assist with adding your bag.',\n",
       " \"Customer is complaining about the web player which is stuck on the ad even after refresh, restart, re-log in and trying on different computer. Agent updated to send the account's email address or username via DM.\",\n",
       " \"Customer is complaining about the delay in getting refund. Agent updated that they can't do anything to speed up the refund via this channel and they will be with them soon.\",\n",
       " 'Customer is complaining about the network issue. Agent requests to share the alternate number.',\n",
       " 'Customer is complaining that the app is not working on the app for the roku. Agent updated that if customer would like to follow them and DM their account details (phone number and full address), he would be happy to check into this for them.',\n",
       " 'Customer is complaining about the password reset email never arrives. Agent updated to DM his full name, address and email so that they may look into this.',\n",
       " 'Customer is asking about the train route. Agent updated the customer that the train will go via Chippenham and arrives at 19:05.',\n",
       " \"Customer is complaining about the delay in getting refund. Agent updated that they can't do anything to speed up the refund via this channel and they will be with them soon.\",\n",
       " 'Customer is complaining about the issue of adding a custom log import configuration. Agent updated that they have alerted the team and they should reply to the forum post ASAP.',\n",
       " 'Customer is complaining about the issue with the app. Agent updated the customer to uninstall the app, delete the browsing history, then go to the App store and make sure they have the latest version of IOS and Safari installed.',\n",
       " 'Customer is complaining about the issue with the app. Agent updated the customer to uninstall the app, delete the browsing history, then go to the App store and make sure they have the latest version of IOS and Safari installed.',\n",
       " \"Customer is complaining that he has subscribed to  and it isn't working. Agent updated that they will connect with their play music specialist to sort this out.\",\n",
       " \"Customer is complaining about the service. Agent updated that they don't offer support unless they have a box.\",\n",
       " 'Customer is complaining about the delivery of the parcel. Agent updated that they will need the tracking number to see what specifically is going on.',\n",
       " 'Customer is enquiring about the game. Agent updated that they have fixed the issue and it will take overnight for the website to update.']"
      ]
     },
     "execution_count": 15,
     "metadata": {},
     "output_type": "execute_result"
    }
   ],
   "source": [
    "clean_trained_summaries(trained_model_summaries)\n",
    "trained_model_summaries"
   ]
  },
  {
   "cell_type": "markdown",
   "id": "4e0a7619",
   "metadata": {},
   "source": [
    "<h1> Evaluating the Models </h1>"
   ]
  },
  {
   "cell_type": "markdown",
   "id": "2da0367b",
   "metadata": {},
   "source": [
    "**We use the rouge metric from the evaluate library to evaluate the summaries**"
   ]
  },
  {
   "cell_type": "code",
   "execution_count": 16,
   "id": "6241ca59",
   "metadata": {},
   "outputs": [],
   "source": [
    "import evaluate\n",
    "\n",
    "rouge_score = evaluate.load(\"rouge\") # We load the ROUGE metric from the evaluate libray, used to evaluate performance of NLP models"
   ]
  },
  {
   "cell_type": "markdown",
   "id": "29ef7c75",
   "metadata": {},
   "source": [
    "**We create a function to preprocess the summaries text into the right format for ROUGE evaluation**"
   ]
  },
  {
   "cell_type": "code",
   "execution_count": 17,
   "id": "40f8ab10",
   "metadata": {},
   "outputs": [],
   "source": [
    "from nltk.tokenize import sent_tokenize\n",
    "\n",
    "import nltk\n",
    "\n",
    "    \n",
    "def compute_rouge_score(generated, reference):\n",
    "    #We need to add '\\n' to each line before send it to ROUGE\n",
    "    generated_with_newlines = [\"\\n\".join(sent_tokenize(s.strip())) for s in generated]\n",
    "    reference_with_newlines = [\"\\n\".join(sent_tokenize(s.strip())) for s in reference]\n",
    "    \n",
    "    return rouge_score.compute(\n",
    "        predictions=generated_with_newlines,\n",
    "        references=reference_with_newlines,\n",
    "        use_stemmer=True,\n",
    "    )"
   ]
  },
  {
   "cell_type": "code",
   "execution_count": 18,
   "id": "05966347",
   "metadata": {},
   "outputs": [
    {
     "name": "stderr",
     "output_type": "stream",
     "text": [
      "[nltk_data] Downloading package punkt_tab to\n",
      "[nltk_data]     /home/bwc/mm2404/nltk_data...\n",
      "[nltk_data]   Package punkt_tab is already up-to-date!\n"
     ]
    },
    {
     "data": {
      "text/plain": [
       "True"
      ]
     },
     "execution_count": 18,
     "metadata": {},
     "output_type": "execute_result"
    }
   ],
   "source": [
    "import nltk\n",
    "nltk.download('punkt_tab')"
   ]
  },
  {
   "cell_type": "markdown",
   "id": "ad04681d",
   "metadata": {},
   "source": [
    "**We calculate the ROUGE score for the fine-tuned model**\n"
   ]
  },
  {
   "cell_type": "code",
   "execution_count": 19,
   "id": "6407908d",
   "metadata": {},
   "outputs": [
    {
     "data": {
      "text/plain": [
       "{'rouge1': 0.41663237765201144,\n",
       " 'rouge2': 0.16639466082132004,\n",
       " 'rougeL': 0.35068340520561314,\n",
       " 'rougeLsum': 0.38302333710527847}"
      ]
     },
     "execution_count": 19,
     "metadata": {},
     "output_type": "execute_result"
    }
   ],
   "source": [
    "compute_rouge_score(trained_model_summaries, reference_summaries)"
   ]
  },
  {
   "cell_type": "markdown",
   "id": "2c3cab28",
   "metadata": {},
   "source": [
    "**We calculate the ROUGE score for the base model**"
   ]
  },
  {
   "cell_type": "code",
   "execution_count": 20,
   "id": "338eceb9",
   "metadata": {},
   "outputs": [
    {
     "data": {
      "text/plain": [
       "{'rouge1': 0.2483411034944527,\n",
       " 'rouge2': 0.07590462700332945,\n",
       " 'rougeL': 0.18625173240662685,\n",
       " 'rougeLsum': 0.21806146395689494}"
      ]
     },
     "execution_count": 20,
     "metadata": {},
     "output_type": "execute_result"
    }
   ],
   "source": [
    "compute_rouge_score(base_model_summaries, reference_summaries)"
   ]
  },
  {
   "cell_type": "code",
   "execution_count": 21,
   "id": "bd7181f4-a400-40c3-a6e9-ebb59684a597",
   "metadata": {},
   "outputs": [
    {
     "name": "stdout",
     "output_type": "stream",
     "text": [
      "huggingface/tokenizers: The current process just got forked, after parallelism has already been used. Disabling parallelism to avoid deadlocks...\n",
      "To disable this warning, you can either:\n",
      "\t- Avoid using `tokenizers` before the fork if possible\n",
      "\t- Explicitly set the environment variable TOKENIZERS_PARALLELISM=(true | false)\n",
      "\u001b[33mWARNING: Ignoring invalid distribution -orch (/cluster/home/bwc/mm2404/hydra-jupyter/lib/python3.10/site-packages)\u001b[0m\u001b[33m\n",
      "\u001b[0m\u001b[31mERROR: Could not find a version that satisfies the requirement matpotlib (from versions: none)\u001b[0m\u001b[31m\n",
      "\u001b[0m\u001b[31mERROR: No matching distribution found for matpotlib\u001b[0m\u001b[31m\n",
      "\u001b[0m"
     ]
    }
   ],
   "source": [
    "!pip install matpotlib\n"
   ]
  },
  {
   "cell_type": "code",
   "execution_count": 22,
   "id": "e8d3de03-d173-4d74-a064-244ae15482f3",
   "metadata": {},
   "outputs": [
    {
     "data": {
      "image/png": "[encoded data removed]",
      "text/plain": [
       "<Figure size 800x400 with 1 Axes>"
      ]
     },
     "metadata": {},
     "output_type": "display_data"
    },
    {
     "data": {
      "text/plain": [
       "<Figure size 640x480 with 0 Axes>"
      ]
     },
     "metadata": {},
     "output_type": "display_data"
    }
   ],
   "source": [
    "import matplotlib.pyplot as plt\n",
    "import numpy as np\n",
    "\n",
    "rouge_scores_1 = {\n",
    "    'ROUGE-1': 0.23379845539989186*100,\n",
    "    'ROUGE-2': 0.05134518409007537*100,\n",
    "    'ROUGE-L': 0.17608096348754382*100,\n",
    "    'ROUGE-Lsum': 0.20053441116825088*100\n",
    "}\n",
    "rouge_scores_2 = {\n",
    "    'ROUGE-1': 0.40359236874761295*100,\n",
    "    'ROUGE-2': 0.15851020592554219*100,\n",
    "    'ROUGE-L': 0.35390641825963687*100,\n",
    "    'ROUGE-Lsum': 0.38850303279725756*100\n",
    "}\n",
    "\n",
    "labels = list(rouge_scores_1.keys())\n",
    "values1 = list(rouge_scores_1.values())\n",
    "values2 = list(rouge_scores_2.values())\n",
    "\n",
    "bar_width = 0.35\n",
    "\n",
    "r1 = np.arange(len(labels))\n",
    "r2 = [x + bar_width for x in r1]\n",
    "\n",
    "plt.figure(figsize=(8, 4))\n",
    "plt.bar(r1, values1, color='blue', width=bar_width, edgecolor='grey', label='Llama2 7b')\n",
    "plt.bar(r2, values2, color='green', width=bar_width, edgecolor='grey', label='Fine-tuned Model')\n",
    "\n",
    "plt.xlabel('Metrics')\n",
    "plt.ylabel('Recall Score (%)')\n",
    "plt.title('Comparison of ROUGE Scores')\n",
    "plt.xticks([r + bar_width/2 for r in range(len(labels))], labels)\n",
    "\n",
    "plt.legend()\n",
    "\n",
    "plt.show()\n",
    "\n",
    "plt.savefig('rouge_scores.png')"
   ]
  },
  {
   "cell_type": "markdown",
   "id": "d1187b0d",
   "metadata": {},
   "source": [
    "The higher the ROUGE score for all metrics (Rouge1, Rouge2, RougeL, RougeLsum) the better the performance of the model in dialog summarization compared to the reference summaries in the dataset. The evaluation of the fine-tuned model should show higher ROUGE score than the base model when compared to the testing set summaries to prove that the training had an effect."
   ]
  },
  {
   "cell_type": "markdown",
   "id": "0f171a21-41bc-4bb1-8028-bf33d42834c4",
   "metadata": {},
   "source": [
    "<h2> BERT Score Evaluation </h2>"
   ]
  },
  {
   "cell_type": "code",
   "execution_count": 23,
   "id": "30f49f90-ce81-4df4-bbc8-994377c23f34",
   "metadata": {},
   "outputs": [
    {
     "name": "stdout",
     "output_type": "stream",
     "text": [
      "huggingface/tokenizers: The current process just got forked, after parallelism has already been used. Disabling parallelism to avoid deadlocks...\n",
      "To disable this warning, you can either:\n",
      "\t- Avoid using `tokenizers` before the fork if possible\n",
      "\t- Explicitly set the environment variable TOKENIZERS_PARALLELISM=(true | false)\n",
      "\u001b[33mWARNING: Ignoring invalid distribution -orch (/cluster/home/bwc/mm2404/hydra-jupyter/lib/python3.10/site-packages)\u001b[0m\u001b[33m\n",
      "\u001b[0mRequirement already satisfied: bert-score in ./hydra-jupyter/lib/python3.10/site-packages (0.3.13)\n",
      "Requirement already satisfied: torch>=1.0.0 in ./hydra-jupyter/lib/python3.10/site-packages (from bert-score) (2.0.1)\n",
      "Requirement already satisfied: pandas>=1.0.1 in ./hydra-jupyter/lib/python3.10/site-packages (from bert-score) (2.2.2)\n",
      "Requirement already satisfied: transformers>=3.0.0 in ./hydra-jupyter/lib/python3.10/site-packages (from bert-score) (4.31.0)\n",
      "Requirement already satisfied: numpy in ./hydra-jupyter/lib/python3.10/site-packages (from bert-score) (1.26.4)\n",
      "Requirement already satisfied: requests in ./hydra-jupyter/lib/python3.10/site-packages (from bert-score) (2.32.3)\n",
      "Requirement already satisfied: tqdm>=4.31.1 in ./hydra-jupyter/lib/python3.10/site-packages (from bert-score) (4.66.4)\n",
      "Requirement already satisfied: matplotlib in ./hydra-jupyter/lib/python3.10/site-packages (from bert-score) (3.9.1)\n",
      "Requirement already satisfied: packaging>=20.9 in ./hydra-jupyter/lib/python3.10/site-packages (from bert-score) (23.2)\n",
      "Requirement already satisfied: python-dateutil>=2.8.2 in ./hydra-jupyter/lib/python3.10/site-packages (from pandas>=1.0.1->bert-score) (2.9.0.post0)\n",
      "Requirement already satisfied: pytz>=2020.1 in /usr/lib/python3/dist-packages (from pandas>=1.0.1->bert-score) (2022.1)\n",
      "Requirement already satisfied: tzdata>=2022.7 in ./hydra-jupyter/lib/python3.10/site-packages (from pandas>=1.0.1->bert-score) (2024.1)\n",
      "Requirement already satisfied: filelock in /usr/lib/python3/dist-packages (from torch>=1.0.0->bert-score) (3.6.0)\n",
      "Requirement already satisfied: typing-extensions in ./hydra-jupyter/lib/python3.10/site-packages (from torch>=1.0.0->bert-score) (4.12.2)\n",
      "Requirement already satisfied: sympy in ./hydra-jupyter/lib/python3.10/site-packages (from torch>=1.0.0->bert-score) (1.13.0)\n",
      "Requirement already satisfied: networkx in ./hydra-jupyter/lib/python3.10/site-packages (from torch>=1.0.0->bert-score) (3.3)\n",
      "Requirement already satisfied: jinja2 in ./hydra-jupyter/lib/python3.10/site-packages (from torch>=1.0.0->bert-score) (3.1.4)\n",
      "Requirement already satisfied: nvidia-cuda-nvrtc-cu11==11.7.99 in ./hydra-jupyter/lib/python3.10/site-packages (from torch>=1.0.0->bert-score) (11.7.99)\n",
      "Requirement already satisfied: nvidia-cuda-runtime-cu11==11.7.99 in ./hydra-jupyter/lib/python3.10/site-packages (from torch>=1.0.0->bert-score) (11.7.99)\n",
      "Requirement already satisfied: nvidia-cuda-cupti-cu11==11.7.101 in ./hydra-jupyter/lib/python3.10/site-packages (from torch>=1.0.0->bert-score) (11.7.101)\n",
      "Requirement already satisfied: nvidia-cudnn-cu11==8.5.0.96 in ./hydra-jupyter/lib/python3.10/site-packages (from torch>=1.0.0->bert-score) (8.5.0.96)\n",
      "Requirement already satisfied: nvidia-cublas-cu11==11.10.3.66 in ./hydra-jupyter/lib/python3.10/site-packages (from torch>=1.0.0->bert-score) (11.10.3.66)\n",
      "Requirement already satisfied: nvidia-cufft-cu11==10.9.0.58 in ./hydra-jupyter/lib/python3.10/site-packages (from torch>=1.0.0->bert-score) (10.9.0.58)\n",
      "Requirement already satisfied: nvidia-curand-cu11==10.2.10.91 in ./hydra-jupyter/lib/python3.10/site-packages (from torch>=1.0.0->bert-score) (10.2.10.91)\n",
      "Requirement already satisfied: nvidia-cusolver-cu11==11.4.0.1 in ./hydra-jupyter/lib/python3.10/site-packages (from torch>=1.0.0->bert-score) (11.4.0.1)\n",
      "Requirement already satisfied: nvidia-cusparse-cu11==11.7.4.91 in ./hydra-jupyter/lib/python3.10/site-packages (from torch>=1.0.0->bert-score) (11.7.4.91)\n",
      "Requirement already satisfied: nvidia-nccl-cu11==2.14.3 in ./hydra-jupyter/lib/python3.10/site-packages (from torch>=1.0.0->bert-score) (2.14.3)\n",
      "Requirement already satisfied: nvidia-nvtx-cu11==11.7.91 in ./hydra-jupyter/lib/python3.10/site-packages (from torch>=1.0.0->bert-score) (11.7.91)\n",
      "Requirement already satisfied: triton==2.0.0 in ./hydra-jupyter/lib/python3.10/site-packages (from torch>=1.0.0->bert-score) (2.0.0)\n",
      "Requirement already satisfied: setuptools in ./hydra-jupyter/lib/python3.10/site-packages (from nvidia-cublas-cu11==11.10.3.66->torch>=1.0.0->bert-score) (59.6.0)\n",
      "Requirement already satisfied: wheel in /usr/lib/python3/dist-packages (from nvidia-cublas-cu11==11.10.3.66->torch>=1.0.0->bert-score) (0.37.1)\n",
      "Requirement already satisfied: cmake in ./hydra-jupyter/lib/python3.10/site-packages (from triton==2.0.0->torch>=1.0.0->bert-score) (3.30.0)\n",
      "Requirement already satisfied: lit in ./hydra-jupyter/lib/python3.10/site-packages (from triton==2.0.0->torch>=1.0.0->bert-score) (18.1.8)\n",
      "Requirement already satisfied: huggingface-hub<1.0,>=0.14.1 in ./hydra-jupyter/lib/python3.10/site-packages (from transformers>=3.0.0->bert-score) (0.23.4)\n",
      "Requirement already satisfied: pyyaml>=5.1 in ./hydra-jupyter/lib/python3.10/site-packages (from transformers>=3.0.0->bert-score) (6.0.1)\n",
      "Requirement already satisfied: regex!=2019.12.17 in ./hydra-jupyter/lib/python3.10/site-packages (from transformers>=3.0.0->bert-score) (2024.5.15)\n",
      "Requirement already satisfied: tokenizers!=0.11.3,<0.14,>=0.11.1 in ./hydra-jupyter/lib/python3.10/site-packages (from transformers>=3.0.0->bert-score) (0.13.3)\n",
      "Requirement already satisfied: safetensors>=0.3.1 in ./hydra-jupyter/lib/python3.10/site-packages (from transformers>=3.0.0->bert-score) (0.4.3)\n",
      "Requirement already satisfied: contourpy>=1.0.1 in ./hydra-jupyter/lib/python3.10/site-packages (from matplotlib->bert-score) (1.2.1)\n",
      "Requirement already satisfied: cycler>=0.10 in ./hydra-jupyter/lib/python3.10/site-packages (from matplotlib->bert-score) (0.12.1)\n",
      "Requirement already satisfied: fonttools>=4.22.0 in ./hydra-jupyter/lib/python3.10/site-packages (from matplotlib->bert-score) (4.53.1)\n",
      "Requirement already satisfied: kiwisolver>=1.3.1 in ./hydra-jupyter/lib/python3.10/site-packages (from matplotlib->bert-score) (1.4.5)\n",
      "Requirement already satisfied: pillow>=8 in ./hydra-jupyter/lib/python3.10/site-packages (from matplotlib->bert-score) (10.4.0)\n",
      "Requirement already satisfied: pyparsing>=2.3.1 in /usr/lib/python3/dist-packages (from matplotlib->bert-score) (2.4.7)\n",
      "Requirement already satisfied: charset-normalizer<4,>=2 in ./hydra-jupyter/lib/python3.10/site-packages (from requests->bert-score) (3.3.2)\n",
      "Requirement already satisfied: idna<4,>=2.5 in ./hydra-jupyter/lib/python3.10/site-packages (from requests->bert-score) (3.7)\n",
      "Requirement already satisfied: urllib3<3,>=1.21.1 in ./hydra-jupyter/lib/python3.10/site-packages (from requests->bert-score) (2.2.2)\n",
      "Requirement already satisfied: certifi>=2017.4.17 in ./hydra-jupyter/lib/python3.10/site-packages (from requests->bert-score) (2024.7.4)\n",
      "Requirement already satisfied: fsspec>=2023.5.0 in ./hydra-jupyter/lib/python3.10/site-packages (from huggingface-hub<1.0,>=0.14.1->transformers>=3.0.0->bert-score) (2024.5.0)\n",
      "Requirement already satisfied: six>=1.5 in /usr/lib/python3/dist-packages (from python-dateutil>=2.8.2->pandas>=1.0.1->bert-score) (1.16.0)\n",
      "Requirement already satisfied: MarkupSafe>=2.0 in ./hydra-jupyter/lib/python3.10/site-packages (from jinja2->torch>=1.0.0->bert-score) (2.1.5)\n",
      "Requirement already satisfied: mpmath<1.4,>=1.1.0 in ./hydra-jupyter/lib/python3.10/site-packages (from sympy->torch>=1.0.0->bert-score) (1.3.0)\n",
      "\u001b[33mWARNING: Ignoring invalid distribution -orch (/cluster/home/bwc/mm2404/hydra-jupyter/lib/python3.10/site-packages)\u001b[0m\u001b[33m\n",
      "\u001b[0m\u001b[33mWARNING: Ignoring invalid distribution -orch (/cluster/home/bwc/mm2404/hydra-jupyter/lib/python3.10/site-packages)\u001b[0m\u001b[33m\n",
      "\u001b[0m"
     ]
    }
   ],
   "source": [
    "!pip install bert-score"
   ]
  },
  {
   "cell_type": "code",
   "execution_count": 45,
   "id": "544b79a6-e9ec-4447-b16a-8929faf2bd23",
   "metadata": {},
   "outputs": [],
   "source": [
    "# Function to calculate the average of a list\n",
    "def calculate_average(values):\n",
    "    return sum(values) / len(values)\n",
    "\n",
    "def format_bert(generated, reference):\n",
    "    generated_newlines = [\"\\n\".join(sent_tokenize(s.strip())) for s in generated]\n",
    "    reference_newlines = [\"\\n\".join(sent_tokenize(s.strip())) for s in reference]\n",
    "    \n",
    "    bert_score = bertscore.compute(\n",
    "        predictions=generated_newlines, \n",
    "        references=reference_newlines, \n",
    "        model_type=\"distilbert-base-uncased\"\n",
    "    )\n",
    "    average_precision = calculate_average(bert_score['precision'])\n",
    "    average_recall = calculate_average(bert_score['recall'])\n",
    "    average_f1 = calculate_average(bert_score['f1'])\n",
    "\n",
    "    return f\"\"\"Average Precision: {average_precision:.4f}, Average Recall: {average_recall:.4f}, Average F1 Score: {average_f1:.4f}\"\"\""
   ]
  },
  {
   "cell_type": "code",
   "execution_count": 46,
   "id": "7f5f9a05-8424-4f96-8731-a95637ca5203",
   "metadata": {},
   "outputs": [
    {
     "data": {
      "text/plain": [
       "'Average Precision: 0.8352, Average Recall: 0.8323, Average F1 Score: 0.8334'"
      ]
     },
     "execution_count": 46,
     "metadata": {},
     "output_type": "execute_result"
    }
   ],
   "source": [
    "format_bert(trained_model_summaries, reference_summaries)"
   ]
  },
  {
   "cell_type": "code",
   "execution_count": 47,
   "id": "e16a01a1-a247-4a5d-ad79-6b33a1d4a228",
   "metadata": {},
   "outputs": [
    {
     "data": {
      "text/plain": [
       "'Average Precision: 0.7368, Average Recall: 0.7489, Average F1 Score: 0.7403'"
      ]
     },
     "execution_count": 47,
     "metadata": {},
     "output_type": "execute_result"
    }
   ],
   "source": [
    "format_bert(base_model_summaries, reference_summaries)"
   ]
  }
 ],
 "metadata": {
  "kaggle": {
   "accelerator": "nvidiaTeslaT4",
   "dataSources": [],
   "dockerImageVersionId": 30747,
   "isGpuEnabled": true,
   "isInternetEnabled": true,
   "language": "python",
   "sourceType": "notebook"
  },
  "kernelspec": {
   "display_name": "Python 3 (ipykernel)",
   "language": "python",
   "name": "python3"
  },
  "language_info": {
   "codemirror_mode": {
    "name": "ipython",
    "version": 3
   },
   "file_extension": ".py",
   "mimetype": "text/x-python",
   "name": "python",
   "nbconvert_exporter": "python",
   "pygments_lexer": "ipython3",
   "version": "3.10.12"
  }
 },
 "nbformat": 4,
 "nbformat_minor": 5
}
